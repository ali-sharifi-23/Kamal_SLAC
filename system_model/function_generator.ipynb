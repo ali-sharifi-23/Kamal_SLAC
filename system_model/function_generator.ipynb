{
 "cells": [
  {
   "cell_type": "code",
   "execution_count": 1,
   "metadata": {},
   "outputs": [],
   "source": [
    "import numpy as np\n",
    "import symforce\n",
    "import os\n",
    "\n",
    "# Symforce setup\n",
    "symforce.set_symbolic_api(\"symengine\")\n",
    "symforce.set_log_level(\"warning\")\n",
    "symforce.set_epsilon_to_symbol()\n",
    "\n",
    "from symforce import codegen\n",
    "from symforce.codegen import codegen_util\n",
    "from symforce import ops\n",
    "import symforce.symbolic as sf\n",
    "from symforce.values import Values\n",
    "from symforce.notebook_util import display, display_code, display_code_file\n",
    "\n",
    "from sympy import linsolve\n",
    "\n",
    "out_put_save_directory = os.getcwd()"
   ]
  },
  {
   "cell_type": "code",
   "execution_count": 2,
   "metadata": {},
   "outputs": [
    {
     "data": {
      "text/latex": [
       "$\\displaystyle \\left[\\begin{matrix}t_{odo0}\\\\t_{odo1}\\\\t_{odo2}\\end{matrix}\\right]$"
      ],
      "text/plain": [
       "⎡t_odo0⎤\n",
       "⎢      ⎥\n",
       "⎢t_odo1⎥\n",
       "⎢      ⎥\n",
       "⎣t_odo2⎦"
      ]
     },
     "metadata": {},
     "output_type": "display_data"
    }
   ],
   "source": [
    "t_i = sf.V3.symbolic(\"t_i\")\n",
    "\n",
    "t_f = sf.V3.symbolic(\"t_f\")\n",
    "\n",
    "s = sf.Symbol('s')\n",
    "R = sf.Rot3.symbolic(\"R\")\n",
    "t_odo = sf.V3.symbolic(\"t_odo\")\n",
    "display(t_odo)\n",
    "\n",
    "a_1 = sf.V3.symbolic(\"a_1\")\n",
    "a_2 = sf.V3.symbolic(\"a_2\")\n",
    "a_3 = sf.V3.symbolic(\"a_3\")\n",
    "a_4 = sf.V3.symbolic(\"a_4\")\n",
    "\n",
    "r_delta, r_TSTA, r_Break = sf.symbols(\"r_delta r_TSTA r_Break\")\n",
    "theta_delta, theta_TSTA, theta_Break = sf.symbols(\"theta_delta theta_TSTA theta_Break\")\n",
    "m_0, n_0, k_0, h_0 = sf.symbols(\"m_0 n_0 k_0 h_0\")\n",
    "l_0 = sf.V3.symbolic(\"\")\n",
    "l = sf.V3.symbolic(\"\")\n",
    "l_enc = sf.V3.symbolic(\"\")"
   ]
  },
  {
   "cell_type": "markdown",
   "metadata": {},
   "source": [
    "Odometry Error Model"
   ]
  },
  {
   "cell_type": "code",
   "execution_count": 3,
   "metadata": {},
   "outputs": [
    {
     "data": {
      "text/latex": [
       "$\\displaystyle \\left[\\begin{matrix}- s \\left(t_{odo0} \\left(- 2 R_{y}^{2} - 2 R_{z}^{2} + 1\\right) + t_{odo1} \\left(- 2 R_{w} R_{z} + 2 R_{x} R_{y}\\right) + t_{odo2} \\cdot \\left(2 R_{w} R_{y} + 2 R_{x} R_{z}\\right)\\right) + t_{f0} - t_{i0}\\\\- s \\left(t_{odo0} \\cdot \\left(2 R_{w} R_{z} + 2 R_{x} R_{y}\\right) + t_{odo1} \\left(- 2 R_{x}^{2} - 2 R_{z}^{2} + 1\\right) + t_{odo2} \\left(- 2 R_{w} R_{x} + 2 R_{y} R_{z}\\right)\\right) + t_{f1} - t_{i1}\\\\- s \\left(t_{odo0} \\left(- 2 R_{w} R_{y} + 2 R_{x} R_{z}\\right) + t_{odo1} \\cdot \\left(2 R_{w} R_{x} + 2 R_{y} R_{z}\\right) + t_{odo2} \\left(- 2 R_{x}^{2} - 2 R_{y}^{2} + 1\\right)\\right) + t_{f2} - t_{i2}\\end{matrix}\\right]$"
      ],
      "text/plain": [
       "⎡    ⎛       ⎛       2        2    ⎞                                          \n",
       "⎢- s⋅⎝t_odo0⋅⎝- 2⋅R_y  - 2⋅R_z  + 1⎠ + t_odo1⋅(-2⋅R_w⋅R_z + 2⋅Rₓ⋅R_y) + t_odo2\n",
       "⎢                                                                             \n",
       "⎢    ⎛                                       ⎛      2        2    ⎞           \n",
       "⎢- s⋅⎝t_odo0⋅(2⋅R_w⋅R_z + 2⋅Rₓ⋅R_y) + t_odo1⋅⎝- 2⋅Rₓ  - 2⋅R_z  + 1⎠ + t_odo2⋅(\n",
       "⎢                                                                             \n",
       "⎢    ⎛                                                                        \n",
       "⎣- s⋅⎝t_odo0⋅(-2⋅R_w⋅R_y + 2⋅Rₓ⋅R_z) + t_odo1⋅(2⋅R_w⋅Rₓ + 2⋅R_y⋅R_z) + t_odo2⋅\n",
       "\n",
       "                       ⎞             ⎤\n",
       "⋅(2⋅R_w⋅R_y + 2⋅Rₓ⋅R_z)⎠ + t_f0 - tᵢ₀⎥\n",
       "                                     ⎥\n",
       "                      ⎞              ⎥\n",
       "-2⋅R_w⋅Rₓ + 2⋅R_y⋅R_z)⎠ + t_f1 - tᵢ₁ ⎥\n",
       "                                     ⎥\n",
       "⎛      2        2    ⎞⎞              ⎥\n",
       "⎝- 2⋅Rₓ  - 2⋅R_y  + 1⎠⎠ + t_f2 - tᵢ₂ ⎦"
      ]
     },
     "metadata": {},
     "output_type": "display_data"
    }
   ],
   "source": [
    "odo_error = t_f - s*(R*t_odo) - t_i\n",
    "display(odo_error)"
   ]
  },
  {
   "cell_type": "markdown",
   "metadata": {},
   "source": [
    "Kinematic Error Model Function"
   ]
  },
  {
   "cell_type": "code",
   "execution_count": 4,
   "metadata": {},
   "outputs": [
    {
     "data": {
      "text/latex": [
       "$\\displaystyle \\left[\\begin{matrix}\\sqrt{\\left(- a_{10} + t_{f0}\\right)^{2} + \\left(- a_{11} + t_{f1}\\right)^{2}} + \\sqrt{\\left(- a_{20} + t_{f0}\\right)^{2} + \\left(- a_{21} + t_{f1}\\right)^{2}}\\\\\\sqrt{\\left(- a_{10} + t_{f0}\\right)^{2} + \\left(- a_{11} + t_{f1}\\right)^{2}} + 2 \\sqrt{\\left(- a_{30} + t_{f0}\\right)^{2} + \\left(- a_{31} + t_{f1}\\right)^{2}}\\\\\\sqrt{\\left(- a_{20} + t_{f0}\\right)^{2} + \\left(- a_{21} + t_{f1}\\right)^{2}} + 2 \\sqrt{\\left(- a_{40} + t_{f0}\\right)^{2} + \\left(- a_{41} + t_{f1}\\right)^{2}}\\end{matrix}\\right]$"
      ],
      "text/plain": [
       "⎡    _________________________________      _________________________________ \n",
       "⎢   ╱              2                2      ╱              2                2  \n",
       "⎢ ╲╱  (-a₁₀ + t_f0)  + (-a₁₁ + t_f1)   + ╲╱  (-a₂₀ + t_f0)  + (-a₂₁ + t_f1)   \n",
       "⎢                                                                             \n",
       "⎢   _________________________________        _________________________________\n",
       "⎢  ╱              2                2        ╱              2                2 \n",
       "⎢╲╱  (-a₁₀ + t_f0)  + (-a₁₁ + t_f1)   + 2⋅╲╱  (-a₃₀ + t_f0)  + (-a₃₁ + t_f1)  \n",
       "⎢                                                                             \n",
       "⎢   _________________________________        _________________________________\n",
       "⎢  ╱              2                2        ╱              2                2 \n",
       "⎣╲╱  (-a₂₀ + t_f0)  + (-a₂₁ + t_f1)   + 2⋅╲╱  (-a₄₀ + t_f0)  + (-a₄₁ + t_f1)  \n",
       "\n",
       "⎤\n",
       "⎥\n",
       "⎥\n",
       "⎥\n",
       "⎥\n",
       "⎥\n",
       "⎥\n",
       "⎥\n",
       "⎥\n",
       "⎥\n",
       "⎦"
      ]
     },
     "metadata": {},
     "output_type": "display_data"
    }
   ],
   "source": [
    "# inverse kinematic\n",
    "l_0[0] = m_0 + n_0\n",
    "l_0[1] = m_0 + 2*k_0\n",
    "l_0[2] = n_0 + 2*h_0\n",
    "m = sf.sqrt((t_f[0] - a_1[0])**2 + (t_f[1] - a_1[1])**2)\n",
    "n = sf.sqrt((t_f[0] - a_2[0])**2 + (t_f[1] - a_2[1])**2)\n",
    "k = sf.sqrt((t_f[0] - a_3[0])**2 + (t_f[1] - a_3[1])**2)\n",
    "h = sf.sqrt((t_f[0] - a_4[0])**2 + (t_f[1] - a_4[1])**2)\n",
    "l[0] = m + n\n",
    "l[1] = m + 2*k\n",
    "l[2] = n + 2*h\n",
    "l_enc[0] = r_delta*theta_delta\n",
    "l_enc[1] = r_TSTA*theta_TSTA\n",
    "l_enc[2] = r_Break*theta_Break\n",
    "error_ik = l - l_0 - l_enc\n",
    "display(l)"
   ]
  },
  {
   "cell_type": "markdown",
   "metadata": {},
   "source": [
    "# Odometry Error Function"
   ]
  },
  {
   "cell_type": "code",
   "execution_count": 5,
   "metadata": {},
   "outputs": [
    {
     "data": {
      "text/latex": [
       "$\\displaystyle \\left[\\begin{matrix}- s \\left(t_{odo0} \\left(- 2 R_{y}^{2} - 2 R_{z}^{2} + 1\\right) + t_{odo1} \\left(- 2 R_{w} R_{z} + 2 R_{x} R_{y}\\right) + t_{odo2} \\cdot \\left(2 R_{w} R_{y} + 2 R_{x} R_{z}\\right)\\right) + t_{f0} - t_{i0}\\\\- s \\left(t_{odo0} \\cdot \\left(2 R_{w} R_{z} + 2 R_{x} R_{y}\\right) + t_{odo1} \\left(- 2 R_{x}^{2} - 2 R_{z}^{2} + 1\\right) + t_{odo2} \\left(- 2 R_{w} R_{x} + 2 R_{y} R_{z}\\right)\\right) + t_{f1} - t_{i1}\\\\- s \\left(t_{odo0} \\left(- 2 R_{w} R_{y} + 2 R_{x} R_{z}\\right) + t_{odo1} \\cdot \\left(2 R_{w} R_{x} + 2 R_{y} R_{z}\\right) + t_{odo2} \\left(- 2 R_{x}^{2} - 2 R_{y}^{2} + 1\\right)\\right) + t_{f2} - t_{i2}\\end{matrix}\\right]$"
      ],
      "text/plain": [
       "⎡    ⎛       ⎛       2        2    ⎞                                          \n",
       "⎢- s⋅⎝t_odo0⋅⎝- 2⋅R_y  - 2⋅R_z  + 1⎠ + t_odo1⋅(-2⋅R_w⋅R_z + 2⋅Rₓ⋅R_y) + t_odo2\n",
       "⎢                                                                             \n",
       "⎢    ⎛                                       ⎛      2        2    ⎞           \n",
       "⎢- s⋅⎝t_odo0⋅(2⋅R_w⋅R_z + 2⋅Rₓ⋅R_y) + t_odo1⋅⎝- 2⋅Rₓ  - 2⋅R_z  + 1⎠ + t_odo2⋅(\n",
       "⎢                                                                             \n",
       "⎢    ⎛                                                                        \n",
       "⎣- s⋅⎝t_odo0⋅(-2⋅R_w⋅R_y + 2⋅Rₓ⋅R_z) + t_odo1⋅(2⋅R_w⋅Rₓ + 2⋅R_y⋅R_z) + t_odo2⋅\n",
       "\n",
       "                       ⎞             ⎤\n",
       "⋅(2⋅R_w⋅R_y + 2⋅Rₓ⋅R_z)⎠ + t_f0 - tᵢ₀⎥\n",
       "                                     ⎥\n",
       "                      ⎞              ⎥\n",
       "-2⋅R_w⋅Rₓ + 2⋅R_y⋅R_z)⎠ + t_f1 - tᵢ₁ ⎥\n",
       "                                     ⎥\n",
       "⎛      2        2    ⎞⎞              ⎥\n",
       "⎝- 2⋅Rₓ  - 2⋅R_y  + 1⎠⎠ + t_f2 - tᵢ₂ ⎦"
      ]
     },
     "metadata": {},
     "output_type": "display_data"
    }
   ],
   "source": [
    "def odo_error_func(t_i: sf.V3,\n",
    "                   t_f: sf.V3,\n",
    "                   R: sf.Rot3,\n",
    "                   s: sf.Symbol,\n",
    "                   t_odo: sf.V3,\n",
    "                   epsilon: sf.Scalar) ->sf.V3:\n",
    "    display(odo_error)\n",
    "    return odo_error\n",
    "\n",
    "residual_func_codegen = codegen.Codegen.function(func=odo_error_func, config=codegen.CppConfig(),)\n",
    "residual_func_codegen_data = residual_func_codegen.generate_function(output_dir=out_put_save_directory)"
   ]
  },
  {
   "cell_type": "markdown",
   "metadata": {},
   "source": [
    "### Jacobian of Odometry Error Function with respect to $s$"
   ]
  },
  {
   "cell_type": "code",
   "execution_count": 6,
   "metadata": {},
   "outputs": [
    {
     "data": {
      "text/latex": [
       "$\\displaystyle \\left[\\begin{matrix}- t_{odo0} \\left(- 2 R_{y}^{2} - 2 R_{z}^{2} + 1\\right) - t_{odo1} \\left(- 2 R_{w} R_{z} + 2 R_{x} R_{y}\\right) - t_{odo2} \\cdot \\left(2 R_{w} R_{y} + 2 R_{x} R_{z}\\right)\\\\- t_{odo0} \\cdot \\left(2 R_{w} R_{z} + 2 R_{x} R_{y}\\right) - t_{odo1} \\left(- 2 R_{x}^{2} - 2 R_{z}^{2} + 1\\right) - t_{odo2} \\left(- 2 R_{w} R_{x} + 2 R_{y} R_{z}\\right)\\\\- t_{odo0} \\left(- 2 R_{w} R_{y} + 2 R_{x} R_{z}\\right) - t_{odo1} \\cdot \\left(2 R_{w} R_{x} + 2 R_{y} R_{z}\\right) - t_{odo2} \\left(- 2 R_{x}^{2} - 2 R_{y}^{2} + 1\\right)\\end{matrix}\\right]$"
      ],
      "text/plain": [
       "⎡         ⎛       2        2    ⎞                                             \n",
       "⎢- t_odo0⋅⎝- 2⋅R_y  - 2⋅R_z  + 1⎠ - t_odo1⋅(-2⋅R_w⋅R_z + 2⋅Rₓ⋅R_y) - t_odo2⋅(2\n",
       "⎢                                                                             \n",
       "⎢                                         ⎛      2        2    ⎞              \n",
       "⎢ -t_odo0⋅(2⋅R_w⋅R_z + 2⋅Rₓ⋅R_y) - t_odo1⋅⎝- 2⋅Rₓ  - 2⋅R_z  + 1⎠ - t_odo2⋅(-2⋅\n",
       "⎢                                                                             \n",
       "⎢                                                                          ⎛  \n",
       "⎣ -t_odo0⋅(-2⋅R_w⋅R_y + 2⋅Rₓ⋅R_z) - t_odo1⋅(2⋅R_w⋅Rₓ + 2⋅R_y⋅R_z) - t_odo2⋅⎝- \n",
       "\n",
       "                    ⎤\n",
       "⋅R_w⋅R_y + 2⋅Rₓ⋅R_z)⎥\n",
       "                    ⎥\n",
       "                    ⎥\n",
       "R_w⋅Rₓ + 2⋅R_y⋅R_z) ⎥\n",
       "                    ⎥\n",
       "    2        2    ⎞ ⎥\n",
       "2⋅Rₓ  - 2⋅R_y  + 1⎠ ⎦"
      ]
     },
     "metadata": {},
     "output_type": "display_data"
    }
   ],
   "source": [
    "def odo_error_func_wrt_s(t_i: sf.V3,\n",
    "                         t_f: sf.V3,\n",
    "                         R: sf.Rot3,\n",
    "                         s: sf.Symbol,\n",
    "                         t_odo: sf.V3,\n",
    "                         epsilon: sf.Scalar) ->sf.V3:\n",
    "    display(odo_error.diff(s))                     \n",
    "    return odo_error.diff(s)\n",
    "\n",
    "residual_func_codegen = codegen.Codegen.function(func=odo_error_func_wrt_s, config=codegen.CppConfig(),)\n",
    "residual_func_codegen_data = residual_func_codegen.generate_function(output_dir=out_put_save_directory)"
   ]
  },
  {
   "cell_type": "markdown",
   "metadata": {},
   "source": [
    "### Jacobian of Odometry Error Function with respect to $R$"
   ]
  },
  {
   "cell_type": "code",
   "execution_count": 7,
   "metadata": {},
   "outputs": [],
   "source": [
    "def odo_error_func_wrt_rot(t_i: sf.V3,\n",
    "                             t_f: sf.V3,\n",
    "                             R: sf.Rot3,\n",
    "                             s: sf.Symbol,\n",
    "                             t_odo: sf.V3,\n",
    "                             epsilon: sf.Scalar):\n",
    "    return odo_error.jacobian(R)\n",
    "\n",
    "residual_func_codegen = codegen.Codegen.function(func=odo_error_func_wrt_rot, config=codegen.CppConfig(),)\n",
    "residual_func_codegen_data = residual_func_codegen.generate_function(output_dir=out_put_save_directory)"
   ]
  },
  {
   "cell_type": "markdown",
   "metadata": {},
   "source": [
    "### Jacobian of Odometry Error Function with respect to $t_i$"
   ]
  },
  {
   "cell_type": "code",
   "execution_count": 8,
   "metadata": {},
   "outputs": [
    {
     "data": {
      "text/latex": [
       "$\\displaystyle \\left[\\begin{matrix}-1 & 0 & 0\\\\0 & -1 & 0\\\\0 & 0 & -1\\end{matrix}\\right]$"
      ],
      "text/plain": [
       "⎡-1  0   0 ⎤\n",
       "⎢          ⎥\n",
       "⎢0   -1  0 ⎥\n",
       "⎢          ⎥\n",
       "⎣0   0   -1⎦"
      ]
     },
     "metadata": {},
     "output_type": "display_data"
    }
   ],
   "source": [
    "def odo_error_func_wrt_pos_i(t_i: sf.V3,\n",
    "                             t_f: sf.V3,\n",
    "                             R: sf.Rot3,\n",
    "                             s: sf.Symbol,\n",
    "                             t_odo: sf.V3,\n",
    "                             epsilon: sf.Scalar) ->sf.Matrix33:\n",
    "    display(odo_error.jacobian(t_i))\n",
    "    return odo_error.jacobian(t_i)\n",
    "\n",
    "residual_func_codegen = codegen.Codegen.function(func=odo_error_func_wrt_pos_i, config=codegen.CppConfig(),)\n",
    "residual_func_codegen_data = residual_func_codegen.generate_function(output_dir=out_put_save_directory)"
   ]
  },
  {
   "cell_type": "markdown",
   "metadata": {},
   "source": [
    "### Jacobian of Odometry Error Function with respect to $t_f$"
   ]
  },
  {
   "cell_type": "code",
   "execution_count": 9,
   "metadata": {},
   "outputs": [
    {
     "data": {
      "text/latex": [
       "$\\displaystyle \\left[\\begin{matrix}1 & 0 & 0\\\\0 & 1 & 0\\\\0 & 0 & 1\\end{matrix}\\right]$"
      ],
      "text/plain": [
       "⎡1  0  0⎤\n",
       "⎢       ⎥\n",
       "⎢0  1  0⎥\n",
       "⎢       ⎥\n",
       "⎣0  0  1⎦"
      ]
     },
     "metadata": {},
     "output_type": "display_data"
    }
   ],
   "source": [
    "def odo_error_func_wrt_pos_f(t_i: sf.V3,\n",
    "                             t_f: sf.V3,\n",
    "                             R: sf.Rot3,\n",
    "                             s: sf.Symbol,\n",
    "                             t_odo: sf.V3,\n",
    "                             epsilon: sf.Scalar) ->sf.Matrix33:\n",
    "    display(odo_error.jacobian(t_f))\n",
    "    return odo_error.jacobian(t_f)\n",
    "\n",
    "residual_func_codegen = codegen.Codegen.function(func=odo_error_func_wrt_pos_f, config=codegen.CppConfig(),)\n",
    "residual_func_codegen_data = residual_func_codegen.generate_function(output_dir=out_put_save_directory)"
   ]
  },
  {
   "cell_type": "markdown",
   "metadata": {},
   "source": [
    "# Kinematic Error Function"
   ]
  },
  {
   "cell_type": "code",
   "execution_count": 10,
   "metadata": {},
   "outputs": [
    {
     "data": {
      "text/latex": [
       "$\\displaystyle \\left[\\begin{matrix}- m_{0} - n_{0} - r_{\\delta} \\theta_{\\delta} + \\sqrt{\\left(- a_{10} + t_{f0}\\right)^{2} + \\left(- a_{11} + t_{f1}\\right)^{2}} + \\sqrt{\\left(- a_{20} + t_{f0}\\right)^{2} + \\left(- a_{21} + t_{f1}\\right)^{2}}\\\\- 2 k_{0} - m_{0} - r_{TSTA} \\theta_{TSTA} + \\sqrt{\\left(- a_{10} + t_{f0}\\right)^{2} + \\left(- a_{11} + t_{f1}\\right)^{2}} + 2 \\sqrt{\\left(- a_{30} + t_{f0}\\right)^{2} + \\left(- a_{31} + t_{f1}\\right)^{2}}\\\\- 2 h_{0} - n_{0} - r_{Break} \\theta_{Break} + \\sqrt{\\left(- a_{20} + t_{f0}\\right)^{2} + \\left(- a_{21} + t_{f1}\\right)^{2}} + 2 \\sqrt{\\left(- a_{40} + t_{f0}\\right)^{2} + \\left(- a_{41} + t_{f1}\\right)^{2}}\\end{matrix}\\right]$"
      ],
      "text/plain": [
       "⎡                              _________________________________      ________\n",
       "⎢                             ╱              2                2      ╱        \n",
       "⎢      -m₀ - n₀ - r_δ⋅θ_δ + ╲╱  (-a₁₀ + t_f0)  + (-a₁₁ + t_f1)   + ╲╱  (-a₂₀ +\n",
       "⎢                                                                             \n",
       "⎢                                 _________________________________        ___\n",
       "⎢                                ╱              2                2        ╱   \n",
       "⎢ -2⋅k₀ - m₀ - r_TSTA⋅θ_TSTA + ╲╱  (-a₁₀ + t_f0)  + (-a₁₁ + t_f1)   + 2⋅╲╱  (-\n",
       "⎢                                                                             \n",
       "⎢                                  _________________________________        __\n",
       "⎢                                 ╱              2                2        ╱  \n",
       "⎣-2⋅h₀ - n₀ - r_Break⋅θ_Break + ╲╱  (-a₂₀ + t_f0)  + (-a₂₁ + t_f1)   + 2⋅╲╱  (\n",
       "\n",
       "_________________________      ⎤\n",
       "      2                2       ⎥\n",
       " t_f0)  + (-a₂₁ + t_f1)        ⎥\n",
       "                               ⎥\n",
       "______________________________ ⎥\n",
       "           2                2  ⎥\n",
       "a₃₀ + t_f0)  + (-a₃₁ + t_f1)   ⎥\n",
       "                               ⎥\n",
       "_______________________________⎥\n",
       "            2                2 ⎥\n",
       "-a₄₀ + t_f0)  + (-a₄₁ + t_f1)  ⎦"
      ]
     },
     "metadata": {},
     "output_type": "display_data"
    }
   ],
   "source": [
    "def kin_error_func(a_1: sf.V3, a_2: sf.V3, a_3: sf.V3, a_4: sf.V3,\n",
    "                   t_f: sf.V3,\n",
    "                   m_0: sf.Symbol, n_0: sf.Symbol, k_0: sf.Symbol, h_0: sf.Symbol,\n",
    "                   r_delta: sf.Symbol, r_TSTA: sf.Symbol, r_Break: sf.Symbol,\n",
    "                   theta_delta: sf.Symbol, theta_TSTA: sf.Symbol, theta_Break: sf.Symbol,\n",
    "                   epsilon: sf.Scalar) ->sf.V3:\n",
    "    display(error_ik)\n",
    "    return error_ik\n",
    "\n",
    "residual_func_codegen = codegen.Codegen.function(func=kin_error_func, config=codegen.CppConfig(),)\n",
    "residual_func_codegen_data = residual_func_codegen.generate_function(output_dir=out_put_save_directory)"
   ]
  },
  {
   "cell_type": "markdown",
   "metadata": {},
   "source": [
    "### Jacobian of Kinematic Error Function with respect to $a_1$"
   ]
  },
  {
   "cell_type": "code",
   "execution_count": 11,
   "metadata": {},
   "outputs": [
    {
     "data": {
      "text/latex": [
       "$\\displaystyle \\left[\\begin{matrix}- \\frac{- a_{10} + t_{f0}}{\\sqrt{\\left(- a_{10} + t_{f0}\\right)^{2} + \\left(- a_{11} + t_{f1}\\right)^{2}}} & - \\frac{- a_{11} + t_{f1}}{\\sqrt{\\left(- a_{10} + t_{f0}\\right)^{2} + \\left(- a_{11} + t_{f1}\\right)^{2}}} & 0\\\\- \\frac{- a_{10} + t_{f0}}{\\sqrt{\\left(- a_{10} + t_{f0}\\right)^{2} + \\left(- a_{11} + t_{f1}\\right)^{2}}} & - \\frac{- a_{11} + t_{f1}}{\\sqrt{\\left(- a_{10} + t_{f0}\\right)^{2} + \\left(- a_{11} + t_{f1}\\right)^{2}}} & 0\\\\0 & 0 & 0\\end{matrix}\\right]$"
      ],
      "text/plain": [
       "⎡          -(-a₁₀ + t_f0)                        -(-a₁₁ + t_f1)               \n",
       "⎢────────────────────────────────────  ────────────────────────────────────  0\n",
       "⎢   _________________________________     _________________________________   \n",
       "⎢  ╱              2                2     ╱              2                2    \n",
       "⎢╲╱  (-a₁₀ + t_f0)  + (-a₁₁ + t_f1)    ╲╱  (-a₁₀ + t_f0)  + (-a₁₁ + t_f1)     \n",
       "⎢                                                                             \n",
       "⎢          -(-a₁₀ + t_f0)                        -(-a₁₁ + t_f1)               \n",
       "⎢────────────────────────────────────  ────────────────────────────────────  0\n",
       "⎢   _________________________________     _________________________________   \n",
       "⎢  ╱              2                2     ╱              2                2    \n",
       "⎢╲╱  (-a₁₀ + t_f0)  + (-a₁₁ + t_f1)    ╲╱  (-a₁₀ + t_f0)  + (-a₁₁ + t_f1)     \n",
       "⎢                                                                             \n",
       "⎣                 0                                     0                    0\n",
       "\n",
       "⎤\n",
       "⎥\n",
       "⎥\n",
       "⎥\n",
       "⎥\n",
       "⎥\n",
       "⎥\n",
       "⎥\n",
       "⎥\n",
       "⎥\n",
       "⎥\n",
       "⎥\n",
       "⎦"
      ]
     },
     "metadata": {},
     "output_type": "display_data"
    }
   ],
   "source": [
    "def kin_error_func_wrt_a_1(a_1: sf.V3, a_2: sf.V3, a_3: sf.V3, a_4: sf.V3,\n",
    "                           t_f: sf.V3,\n",
    "                           m_0: sf.Symbol, n_0: sf.Symbol, k_0: sf.Symbol, h_0: sf.Symbol,\n",
    "                           r_delta: sf.Symbol, r_TSTA: sf.Symbol, r_Break: sf.Symbol,\n",
    "                           theta_delta: sf.Symbol, theta_TSTA: sf.Symbol, theta_Break: sf.Symbol,\n",
    "                           epsilon: sf.Scalar) ->sf.Matrix33:\n",
    "    display(error_ik.jacobian(a_1))\n",
    "    return error_ik.jacobian(a_1)\n",
    "\n",
    "residual_func_codegen = codegen.Codegen.function(func=kin_error_func_wrt_a_1, config=codegen.CppConfig(),)\n",
    "residual_func_codegen_data = residual_func_codegen.generate_function(output_dir=out_put_save_directory)"
   ]
  },
  {
   "cell_type": "markdown",
   "metadata": {},
   "source": [
    "### Jacobian of Kinematic Error Function with respect to $a_2$"
   ]
  },
  {
   "cell_type": "code",
   "execution_count": 12,
   "metadata": {},
   "outputs": [
    {
     "data": {
      "text/latex": [
       "$\\displaystyle \\left[\\begin{matrix}- \\frac{- a_{20} + t_{f0}}{\\sqrt{\\left(- a_{20} + t_{f0}\\right)^{2} + \\left(- a_{21} + t_{f1}\\right)^{2}}} & - \\frac{- a_{21} + t_{f1}}{\\sqrt{\\left(- a_{20} + t_{f0}\\right)^{2} + \\left(- a_{21} + t_{f1}\\right)^{2}}} & 0\\\\0 & 0 & 0\\\\- \\frac{- a_{20} + t_{f0}}{\\sqrt{\\left(- a_{20} + t_{f0}\\right)^{2} + \\left(- a_{21} + t_{f1}\\right)^{2}}} & - \\frac{- a_{21} + t_{f1}}{\\sqrt{\\left(- a_{20} + t_{f0}\\right)^{2} + \\left(- a_{21} + t_{f1}\\right)^{2}}} & 0\\end{matrix}\\right]$"
      ],
      "text/plain": [
       "⎡          -(-a₂₀ + t_f0)                        -(-a₂₁ + t_f1)               \n",
       "⎢────────────────────────────────────  ────────────────────────────────────  0\n",
       "⎢   _________________________________     _________________________________   \n",
       "⎢  ╱              2                2     ╱              2                2    \n",
       "⎢╲╱  (-a₂₀ + t_f0)  + (-a₂₁ + t_f1)    ╲╱  (-a₂₀ + t_f0)  + (-a₂₁ + t_f1)     \n",
       "⎢                                                                             \n",
       "⎢                 0                                     0                    0\n",
       "⎢                                                                             \n",
       "⎢          -(-a₂₀ + t_f0)                        -(-a₂₁ + t_f1)               \n",
       "⎢────────────────────────────────────  ────────────────────────────────────  0\n",
       "⎢   _________________________________     _________________________________   \n",
       "⎢  ╱              2                2     ╱              2                2    \n",
       "⎣╲╱  (-a₂₀ + t_f0)  + (-a₂₁ + t_f1)    ╲╱  (-a₂₀ + t_f0)  + (-a₂₁ + t_f1)     \n",
       "\n",
       "⎤\n",
       "⎥\n",
       "⎥\n",
       "⎥\n",
       "⎥\n",
       "⎥\n",
       "⎥\n",
       "⎥\n",
       "⎥\n",
       "⎥\n",
       "⎥\n",
       "⎥\n",
       "⎦"
      ]
     },
     "metadata": {},
     "output_type": "display_data"
    }
   ],
   "source": [
    "def kin_error_func_wrt_a_2(a_1: sf.V3, a_2: sf.V3, a_3: sf.V3, a_4: sf.V3,\n",
    "                           t_f: sf.V3,\n",
    "                           m_0: sf.Symbol, n_0: sf.Symbol, k_0: sf.Symbol, h_0: sf.Symbol,\n",
    "                           r_delta: sf.Symbol, r_TSTA: sf.Symbol, r_Break: sf.Symbol,\n",
    "                           theta_delta: sf.Symbol, theta_TSTA: sf.Symbol, theta_Break: sf.Symbol,\n",
    "                           epsilon: sf.Scalar) ->sf.Matrix33:\n",
    "    display(error_ik.jacobian(a_2))\n",
    "    return error_ik.jacobian(a_2)\n",
    "\n",
    "residual_func_codegen = codegen.Codegen.function(func=kin_error_func_wrt_a_2, config=codegen.CppConfig(),)\n",
    "residual_func_codegen_data = residual_func_codegen.generate_function(output_dir=out_put_save_directory)"
   ]
  },
  {
   "cell_type": "markdown",
   "metadata": {},
   "source": [
    "### Jacobian of Kinematic Error Function with respect to $a_3$"
   ]
  },
  {
   "cell_type": "code",
   "execution_count": 13,
   "metadata": {},
   "outputs": [
    {
     "data": {
      "text/latex": [
       "$\\displaystyle \\left[\\begin{matrix}0 & 0 & 0\\\\- \\frac{2 \\left(- a_{30} + t_{f0}\\right)}{\\sqrt{\\left(- a_{30} + t_{f0}\\right)^{2} + \\left(- a_{31} + t_{f1}\\right)^{2}}} & - \\frac{2 \\left(- a_{31} + t_{f1}\\right)}{\\sqrt{\\left(- a_{30} + t_{f0}\\right)^{2} + \\left(- a_{31} + t_{f1}\\right)^{2}}} & 0\\\\0 & 0 & 0\\end{matrix}\\right]$"
      ],
      "text/plain": [
       "⎡                 0                                     0                    0\n",
       "⎢                                                                             \n",
       "⎢         -2⋅(-a₃₀ + t_f0)                      -2⋅(-a₃₁ + t_f1)              \n",
       "⎢────────────────────────────────────  ────────────────────────────────────  0\n",
       "⎢   _________________________________     _________________________________   \n",
       "⎢  ╱              2                2     ╱              2                2    \n",
       "⎢╲╱  (-a₃₀ + t_f0)  + (-a₃₁ + t_f1)    ╲╱  (-a₃₀ + t_f0)  + (-a₃₁ + t_f1)     \n",
       "⎢                                                                             \n",
       "⎣                 0                                     0                    0\n",
       "\n",
       "⎤\n",
       "⎥\n",
       "⎥\n",
       "⎥\n",
       "⎥\n",
       "⎥\n",
       "⎥\n",
       "⎥\n",
       "⎦"
      ]
     },
     "metadata": {},
     "output_type": "display_data"
    }
   ],
   "source": [
    "def kin_error_func_wrt_a_3(a_1: sf.V3, a_2: sf.V3, a_3: sf.V3, a_4: sf.V3,\n",
    "                           t_f: sf.V3,\n",
    "                           m_0: sf.Symbol, n_0: sf.Symbol, k_0: sf.Symbol, h_0: sf.Symbol,\n",
    "                           r_delta: sf.Symbol, r_TSTA: sf.Symbol, r_Break: sf.Symbol,\n",
    "                           theta_delta: sf.Symbol, theta_TSTA: sf.Symbol, theta_Break: sf.Symbol,\n",
    "                           epsilon: sf.Scalar) ->sf.Matrix33:\n",
    "    display(error_ik.jacobian(a_3))\n",
    "    return error_ik.jacobian(a_3)\n",
    "\n",
    "residual_func_codegen = codegen.Codegen.function(func=kin_error_func_wrt_a_3, config=codegen.CppConfig(),)\n",
    "residual_func_codegen_data = residual_func_codegen.generate_function(output_dir=out_put_save_directory)"
   ]
  },
  {
   "cell_type": "markdown",
   "metadata": {},
   "source": [
    "### Jacobian of Kinematic Error Function with respect to $a_4$"
   ]
  },
  {
   "cell_type": "code",
   "execution_count": 14,
   "metadata": {},
   "outputs": [
    {
     "data": {
      "text/latex": [
       "$\\displaystyle \\left[\\begin{matrix}0 & 0 & 0\\\\0 & 0 & 0\\\\- \\frac{2 \\left(- a_{40} + t_{f0}\\right)}{\\sqrt{\\left(- a_{40} + t_{f0}\\right)^{2} + \\left(- a_{41} + t_{f1}\\right)^{2}}} & - \\frac{2 \\left(- a_{41} + t_{f1}\\right)}{\\sqrt{\\left(- a_{40} + t_{f0}\\right)^{2} + \\left(- a_{41} + t_{f1}\\right)^{2}}} & 0\\end{matrix}\\right]$"
      ],
      "text/plain": [
       "⎡                 0                                     0                    0\n",
       "⎢                                                                             \n",
       "⎢                 0                                     0                    0\n",
       "⎢                                                                             \n",
       "⎢         -2⋅(-a₄₀ + t_f0)                      -2⋅(-a₄₁ + t_f1)              \n",
       "⎢────────────────────────────────────  ────────────────────────────────────  0\n",
       "⎢   _________________________________     _________________________________   \n",
       "⎢  ╱              2                2     ╱              2                2    \n",
       "⎣╲╱  (-a₄₀ + t_f0)  + (-a₄₁ + t_f1)    ╲╱  (-a₄₀ + t_f0)  + (-a₄₁ + t_f1)     \n",
       "\n",
       "⎤\n",
       "⎥\n",
       "⎥\n",
       "⎥\n",
       "⎥\n",
       "⎥\n",
       "⎥\n",
       "⎥\n",
       "⎦"
      ]
     },
     "metadata": {},
     "output_type": "display_data"
    }
   ],
   "source": [
    "def kin_error_func_wrt_a_4(a_1: sf.V3, a_2: sf.V3, a_3: sf.V3, a_4: sf.V3,\n",
    "                           t_f: sf.V3,\n",
    "                           m_0: sf.Symbol, n_0: sf.Symbol, k_0: sf.Symbol, h_0: sf.Symbol,\n",
    "                           r_delta: sf.Symbol, r_TSTA: sf.Symbol, r_Break: sf.Symbol,\n",
    "                           theta_delta: sf.Symbol, theta_TSTA: sf.Symbol, theta_Break: sf.Symbol,\n",
    "                           epsilon: sf.Scalar) ->sf.Matrix33:\n",
    "    display(error_ik.jacobian(a_4))\n",
    "    return error_ik.jacobian(a_4)\n",
    "\n",
    "residual_func_codegen = codegen.Codegen.function(func=kin_error_func_wrt_a_4, config=codegen.CppConfig(),)\n",
    "residual_func_codegen_data = residual_func_codegen.generate_function(output_dir=out_put_save_directory)"
   ]
  },
  {
   "cell_type": "markdown",
   "metadata": {},
   "source": [
    "### Jacobian of Kinematic Error Function with respect to $t_f$"
   ]
  },
  {
   "cell_type": "code",
   "execution_count": 15,
   "metadata": {},
   "outputs": [
    {
     "data": {
      "text/latex": [
       "$\\displaystyle \\left[\\begin{matrix}\\frac{- a_{10} + t_{f0}}{\\sqrt{\\left(- a_{10} + t_{f0}\\right)^{2} + \\left(- a_{11} + t_{f1}\\right)^{2}}} + \\frac{- a_{20} + t_{f0}}{\\sqrt{\\left(- a_{20} + t_{f0}\\right)^{2} + \\left(- a_{21} + t_{f1}\\right)^{2}}} & \\frac{- a_{11} + t_{f1}}{\\sqrt{\\left(- a_{10} + t_{f0}\\right)^{2} + \\left(- a_{11} + t_{f1}\\right)^{2}}} + \\frac{- a_{21} + t_{f1}}{\\sqrt{\\left(- a_{20} + t_{f0}\\right)^{2} + \\left(- a_{21} + t_{f1}\\right)^{2}}} & 0\\\\\\frac{- a_{10} + t_{f0}}{\\sqrt{\\left(- a_{10} + t_{f0}\\right)^{2} + \\left(- a_{11} + t_{f1}\\right)^{2}}} + \\frac{2 \\left(- a_{30} + t_{f0}\\right)}{\\sqrt{\\left(- a_{30} + t_{f0}\\right)^{2} + \\left(- a_{31} + t_{f1}\\right)^{2}}} & \\frac{- a_{11} + t_{f1}}{\\sqrt{\\left(- a_{10} + t_{f0}\\right)^{2} + \\left(- a_{11} + t_{f1}\\right)^{2}}} + \\frac{2 \\left(- a_{31} + t_{f1}\\right)}{\\sqrt{\\left(- a_{30} + t_{f0}\\right)^{2} + \\left(- a_{31} + t_{f1}\\right)^{2}}} & 0\\\\\\frac{- a_{20} + t_{f0}}{\\sqrt{\\left(- a_{20} + t_{f0}\\right)^{2} + \\left(- a_{21} + t_{f1}\\right)^{2}}} + \\frac{2 \\left(- a_{40} + t_{f0}\\right)}{\\sqrt{\\left(- a_{40} + t_{f0}\\right)^{2} + \\left(- a_{41} + t_{f1}\\right)^{2}}} & \\frac{- a_{21} + t_{f1}}{\\sqrt{\\left(- a_{20} + t_{f0}\\right)^{2} + \\left(- a_{21} + t_{f1}\\right)^{2}}} + \\frac{2 \\left(- a_{41} + t_{f1}\\right)}{\\sqrt{\\left(- a_{40} + t_{f0}\\right)^{2} + \\left(- a_{41} + t_{f1}\\right)^{2}}} & 0\\end{matrix}\\right]$"
      ],
      "text/plain": [
       "⎡            -a₁₀ + t_f0                            -a₂₀ + t_f0               \n",
       "⎢──────────────────────────────────── + ────────────────────────────────────  \n",
       "⎢   _________________________________      _________________________________  \n",
       "⎢  ╱              2                2      ╱              2                2   \n",
       "⎢╲╱  (-a₁₀ + t_f0)  + (-a₁₁ + t_f1)     ╲╱  (-a₂₀ + t_f0)  + (-a₂₁ + t_f1)    \n",
       "⎢                                                                             \n",
       "⎢            -a₁₀ + t_f0                          2⋅(-a₃₀ + t_f0)             \n",
       "⎢──────────────────────────────────── + ────────────────────────────────────  \n",
       "⎢   _________________________________      _________________________________  \n",
       "⎢  ╱              2                2      ╱              2                2   \n",
       "⎢╲╱  (-a₁₀ + t_f0)  + (-a₁₁ + t_f1)     ╲╱  (-a₃₀ + t_f0)  + (-a₃₁ + t_f1)    \n",
       "⎢                                                                             \n",
       "⎢            -a₂₀ + t_f0                          2⋅(-a₄₀ + t_f0)             \n",
       "⎢──────────────────────────────────── + ────────────────────────────────────  \n",
       "⎢   _________________________________      _________________________________  \n",
       "⎢  ╱              2                2      ╱              2                2   \n",
       "⎣╲╱  (-a₂₀ + t_f0)  + (-a₂₁ + t_f1)     ╲╱  (-a₄₀ + t_f0)  + (-a₄₁ + t_f1)    \n",
       "\n",
       "            -a₁₁ + t_f1                            -a₂₁ + t_f1                \n",
       "──────────────────────────────────── + ────────────────────────────────────  0\n",
       "   _________________________________      _________________________________   \n",
       "  ╱              2                2      ╱              2                2    \n",
       "╲╱  (-a₁₀ + t_f0)  + (-a₁₁ + t_f1)     ╲╱  (-a₂₀ + t_f0)  + (-a₂₁ + t_f1)     \n",
       "                                                                              \n",
       "            -a₁₁ + t_f1                          2⋅(-a₃₁ + t_f1)              \n",
       "──────────────────────────────────── + ────────────────────────────────────  0\n",
       "   _________________________________      _________________________________   \n",
       "  ╱              2                2      ╱              2                2    \n",
       "╲╱  (-a₁₀ + t_f0)  + (-a₁₁ + t_f1)     ╲╱  (-a₃₀ + t_f0)  + (-a₃₁ + t_f1)     \n",
       "                                                                              \n",
       "            -a₂₁ + t_f1                          2⋅(-a₄₁ + t_f1)              \n",
       "──────────────────────────────────── + ────────────────────────────────────  0\n",
       "   _________________________________      _________________________________   \n",
       "  ╱              2                2      ╱              2                2    \n",
       "╲╱  (-a₂₀ + t_f0)  + (-a₂₁ + t_f1)     ╲╱  (-a₄₀ + t_f0)  + (-a₄₁ + t_f1)     \n",
       "\n",
       "⎤\n",
       "⎥\n",
       "⎥\n",
       "⎥\n",
       "⎥\n",
       "⎥\n",
       "⎥\n",
       "⎥\n",
       "⎥\n",
       "⎥\n",
       "⎥\n",
       "⎥\n",
       "⎥\n",
       "⎥\n",
       "⎥\n",
       "⎥\n",
       "⎦"
      ]
     },
     "metadata": {},
     "output_type": "display_data"
    }
   ],
   "source": [
    "def kin_error_func_wrt_pos_f(a_1: sf.V3, a_2: sf.V3, a_3: sf.V3, a_4: sf.V3,\n",
    "                             t_f: sf.V3,\n",
    "                             m_0: sf.Symbol, n_0: sf.Symbol, k_0: sf.Symbol, h_0: sf.Symbol,\n",
    "                             r_delta: sf.Symbol, r_TSTA: sf.Symbol, r_Break: sf.Symbol,\n",
    "                             theta_delta: sf.Symbol, theta_TSTA: sf.Symbol, theta_Break: sf.Symbol,\n",
    "                             epsilon: sf.Scalar) ->sf.Matrix33:\n",
    "    display(error_ik.jacobian(t_f))\n",
    "    return error_ik.jacobian(t_f)\n",
    "\n",
    "residual_func_codegen = codegen.Codegen.function(func=kin_error_func_wrt_pos_f, config=codegen.CppConfig(),)\n",
    "residual_func_codegen_data = residual_func_codegen.generate_function(output_dir=out_put_save_directory)"
   ]
  },
  {
   "cell_type": "markdown",
   "metadata": {},
   "source": [
    "### Jacobian of Kinematic Error Function with respect to $m_0$"
   ]
  },
  {
   "cell_type": "code",
   "execution_count": 16,
   "metadata": {},
   "outputs": [
    {
     "data": {
      "text/latex": [
       "$\\displaystyle \\left[\\begin{matrix}-1\\\\-1\\\\0\\end{matrix}\\right]$"
      ],
      "text/plain": [
       "⎡-1⎤\n",
       "⎢  ⎥\n",
       "⎢-1⎥\n",
       "⎢  ⎥\n",
       "⎣0 ⎦"
      ]
     },
     "metadata": {},
     "output_type": "display_data"
    }
   ],
   "source": [
    "def kin_error_func_wrt_m_0(a_1: sf.V3, a_2: sf.V3, a_3: sf.V3, a_4: sf.V3,\n",
    "                           t_f: sf.V3,\n",
    "                           m_0: sf.Symbol, n_0: sf.Symbol, k_0: sf.Symbol, h_0: sf.Symbol,\n",
    "                           r_delta: sf.Symbol, r_TSTA: sf.Symbol, r_Break: sf.Symbol,\n",
    "                           theta_delta: sf.Symbol, theta_TSTA: sf.Symbol, theta_Break: sf.Symbol,\n",
    "                           epsilon: sf.Scalar) ->sf.V3:\n",
    "    display(error_ik.diff(m_0))\n",
    "    return error_ik.diff(m_0)\n",
    "\n",
    "residual_func_codegen = codegen.Codegen.function(func=kin_error_func_wrt_m_0, config=codegen.CppConfig(),)\n",
    "residual_func_codegen_data = residual_func_codegen.generate_function(output_dir=out_put_save_directory)"
   ]
  },
  {
   "cell_type": "markdown",
   "metadata": {},
   "source": [
    "### Jacobian of Kinematic Error Function with respect to $n_0$"
   ]
  },
  {
   "cell_type": "code",
   "execution_count": 17,
   "metadata": {},
   "outputs": [],
   "source": [
    "def kin_error_func_wrt_n_0(a_1: sf.V3, a_2: sf.V3, a_3: sf.V3, a_4: sf.V3,\n",
    "                           t_f: sf.V3,\n",
    "                           m_0: sf.Symbol, n_0: sf.Symbol, k_0: sf.Symbol, h_0: sf.Symbol,\n",
    "                           r_delta: sf.Symbol, r_TSTA: sf.Symbol, r_Break: sf.Symbol,\n",
    "                           theta_delta: sf.Symbol, theta_TSTA: sf.Symbol, theta_Break: sf.Symbol,\n",
    "                           epsilon: sf.Scalar) ->sf.V3:\n",
    "    return error_ik.diff(n_0)\n",
    "\n",
    "residual_func_codegen = codegen.Codegen.function(func=kin_error_func_wrt_n_0, config=codegen.CppConfig(),)\n",
    "residual_func_codegen_data = residual_func_codegen.generate_function(output_dir=out_put_save_directory)"
   ]
  },
  {
   "cell_type": "markdown",
   "metadata": {},
   "source": [
    "### Jacobian of Kinematic Error Function with respect to $k_0$"
   ]
  },
  {
   "cell_type": "code",
   "execution_count": 18,
   "metadata": {},
   "outputs": [],
   "source": [
    "def kin_error_func_wrt_k_0(a_1: sf.V3, a_2: sf.V3, a_3: sf.V3, a_4: sf.V3,\n",
    "                           t_f: sf.V3,\n",
    "                           m_0: sf.Symbol, n_0: sf.Symbol, k_0: sf.Symbol, h_0: sf.Symbol,\n",
    "                           r_delta: sf.Symbol, r_TSTA: sf.Symbol, r_Break: sf.Symbol,\n",
    "                           theta_delta: sf.Symbol, theta_TSTA: sf.Symbol, theta_Break: sf.Symbol,\n",
    "                           epsilon: sf.Scalar) ->sf.V3:\n",
    "    return error_ik.diff(k_0)\n",
    "\n",
    "residual_func_codegen = codegen.Codegen.function(func=kin_error_func_wrt_k_0, config=codegen.CppConfig(),)\n",
    "residual_func_codegen_data = residual_func_codegen.generate_function(output_dir=out_put_save_directory)"
   ]
  },
  {
   "cell_type": "markdown",
   "metadata": {},
   "source": [
    "### Jacobian of Kinematic Error Function with respect to $h_0$"
   ]
  },
  {
   "cell_type": "code",
   "execution_count": 19,
   "metadata": {},
   "outputs": [],
   "source": [
    "def kin_error_func_wrt_h_0(a_1: sf.V3, a_2: sf.V3, a_3: sf.V3, a_4: sf.V3,\n",
    "                           t_f: sf.V3,\n",
    "                           m_0: sf.Symbol, n_0: sf.Symbol, k_0: sf.Symbol, h_0: sf.Symbol,\n",
    "                           r_delta: sf.Symbol, r_TSTA: sf.Symbol, r_Break: sf.Symbol,\n",
    "                           theta_delta: sf.Symbol, theta_TSTA: sf.Symbol, theta_Break: sf.Symbol,\n",
    "                           epsilon: sf.Scalar) ->sf.V3:\n",
    "    return error_ik.diff(h_0)\n",
    "\n",
    "residual_func_codegen = codegen.Codegen.function(func=kin_error_func_wrt_h_0, config=codegen.CppConfig(),)\n",
    "residual_func_codegen_data = residual_func_codegen.generate_function(output_dir=out_put_save_directory)"
   ]
  }
 ],
 "metadata": {
  "kernelspec": {
   "display_name": "Python 3",
   "language": "python",
   "name": "python3"
  },
  "language_info": {
   "codemirror_mode": {
    "name": "ipython",
    "version": 3
   },
   "file_extension": ".py",
   "mimetype": "text/x-python",
   "name": "python",
   "nbconvert_exporter": "python",
   "pygments_lexer": "ipython3",
   "version": "3.8.10"
  }
 },
 "nbformat": 4,
 "nbformat_minor": 2
}
