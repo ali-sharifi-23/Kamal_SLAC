{
 "cells": [
  {
   "cell_type": "code",
   "execution_count": 1,
   "metadata": {},
   "outputs": [],
   "source": [
    "import numpy as np\n",
    "import symforce\n",
    "import os\n",
    "\n",
    "# Symforce setup\n",
    "symforce.set_symbolic_api(\"symengine\")\n",
    "symforce.set_log_level(\"warning\")\n",
    "symforce.set_epsilon_to_symbol()\n",
    "\n",
    "from symforce import codegen\n",
    "from symforce.codegen import codegen_util\n",
    "from symforce import ops\n",
    "import symforce.symbolic as sf\n",
    "from symforce.values import Values\n",
    "from symforce.notebook_util import display, display_code, display_code_file\n",
    "\n",
    "out_put_save_directory = os.getcwd()"
   ]
  },
  {
   "cell_type": "code",
   "execution_count": 2,
   "metadata": {},
   "outputs": [
    {
     "data": {
      "text/latex": [
       "$\\displaystyle \\left[\\begin{matrix}t_{odo0}\\\\t_{odo1}\\\\t_{odo2}\\end{matrix}\\right]$"
      ],
      "text/plain": [
       "⎡t_odo0⎤\n",
       "⎢      ⎥\n",
       "⎢t_odo1⎥\n",
       "⎢      ⎥\n",
       "⎣t_odo2⎦"
      ]
     },
     "metadata": {},
     "output_type": "display_data"
    }
   ],
   "source": [
    "t_i = sf.V3.symbolic(\"t_i\")\n",
    "\n",
    "t_f = sf.V3.symbolic(\"t_f\")\n",
    "\n",
    "s = sf.Symbol('s')\n",
    "# s = sf.V3.symbolic(\"s\")\n",
    "t_odo = sf.V3.symbolic(\"t_odo\")\n",
    "display(t_odo)\n",
    "\n",
    "a_1 = sf.V3.symbolic(\"a_1\")\n",
    "a_2 = sf.V3.symbolic(\"a_2\")\n",
    "a_3 = sf.V3.symbolic(\"a_3\")\n",
    "a_4 = sf.V3.symbolic(\"a_4\")\n",
    "\n",
    "r_delta, r_TSTA, r_Break = sf.symbols(\"r_delta r_TSTA r_Break\")\n",
    "theta_delta, theta_TSTA, theta_Break = sf.symbols(\"theta_delta theta_TSTA theta_Break\")\n",
    "m_0, n_0, k_0, h_0 = sf.symbols(\"m_0 n_0 k_0 h_0\")\n",
    "l_0 = sf.V3.symbolic(\"\")\n",
    "l = sf.V3.symbolic(\"\")\n",
    "l_enc = sf.V3.symbolic(\"\")"
   ]
  },
  {
   "cell_type": "markdown",
   "metadata": {},
   "source": [
    "Odometry Error Model"
   ]
  },
  {
   "cell_type": "code",
   "execution_count": 3,
   "metadata": {},
   "outputs": [
    {
     "name": "stdout",
     "output_type": "stream",
     "text": [
      "[t_f0 - t_i0 - s*t_odo0]\n",
      "[t_f1 - t_i1 - s*t_odo1]\n",
      "[t_f2 - t_i2 - s*t_odo2]\n",
      "\n"
     ]
    }
   ],
   "source": [
    "odo_error = t_f - s*t_odo - t_i\n",
    "print(odo_error)"
   ]
  },
  {
   "cell_type": "markdown",
   "metadata": {},
   "source": [
    "Kinematic Error Model Function"
   ]
  },
  {
   "cell_type": "code",
   "execution_count": 4,
   "metadata": {},
   "outputs": [],
   "source": [
    "# inverse kinematic\n",
    "l_0[0] = m_0 + n_0\n",
    "l_0[1] = m_0 + 2*k_0\n",
    "l_0[2] = n_0 + 2*h_0\n",
    "m = sf.sqrt((t_f[0] - a_1[0])**2 + (t_f[1] - a_1[1])**2)\n",
    "n = sf.sqrt((t_f[0] - a_2[0])**2 + (t_f[1] - a_2[1])**2)\n",
    "k = sf.sqrt((t_f[0] - a_3[0])**2 + (t_f[1] - a_3[1])**2)\n",
    "h = sf.sqrt((t_f[0] - a_4[0])**2 + (t_f[1] - a_4[1])**2)\n",
    "l[0] = m + n\n",
    "l[1] = m + 2*k\n",
    "l[2] = n + 2*h\n",
    "l_enc[0] = r_delta*theta_delta\n",
    "l_enc[1] = r_TSTA*theta_TSTA\n",
    "l_enc[2] = r_Break*theta_Break\n",
    "error_ik = l - l_0 - l_enc"
   ]
  },
  {
   "cell_type": "markdown",
   "metadata": {},
   "source": [
    "# Odometry Error Function"
   ]
  },
  {
   "cell_type": "code",
   "execution_count": 5,
   "metadata": {},
   "outputs": [],
   "source": [
    "def odo_error_func(t_i: sf.V3,\n",
    "                   t_f: sf.V3,\n",
    "                   s: sf.Symbol,\n",
    "                   t_odo: sf.V3,\n",
    "                   epsilon: sf.Scalar) ->sf.V3:\n",
    "    return odo_error\n",
    "\n",
    "residual_func_codegen = codegen.Codegen.function(func=odo_error_func, config=codegen.CppConfig(),)\n",
    "residual_func_codegen_data = residual_func_codegen.generate_function(output_dir=out_put_save_directory)"
   ]
  },
  {
   "cell_type": "markdown",
   "metadata": {},
   "source": [
    "### Jacobian of Odometry Error Function with respect to $s$"
   ]
  },
  {
   "cell_type": "code",
   "execution_count": 6,
   "metadata": {},
   "outputs": [],
   "source": [
    "def odo_error_func_wrt_s(t_i: sf.V3,\n",
    "                         t_f: sf.V3,\n",
    "                         s: sf.Symbol,\n",
    "                         t_odo: sf.V3,\n",
    "                         epsilon: sf.Scalar) ->sf.V3:\n",
    "                         \n",
    "    return odo_error.diff(s)\n",
    "\n",
    "residual_func_codegen = codegen.Codegen.function(func=odo_error_func_wrt_s, config=codegen.CppConfig(),)\n",
    "residual_func_codegen_data = residual_func_codegen.generate_function(output_dir=out_put_save_directory)"
   ]
  },
  {
   "cell_type": "markdown",
   "metadata": {},
   "source": [
    "### Jacobian of Odometry Error Function with respect to $t_i$"
   ]
  },
  {
   "cell_type": "code",
   "execution_count": 7,
   "metadata": {},
   "outputs": [],
   "source": [
    "def odo_error_func_wrt_pos_i(t_i: sf.V3,\n",
    "                             t_f: sf.V3,\n",
    "                             s: sf.Symbol,\n",
    "                             t_odo: sf.V3,\n",
    "                             epsilon: sf.Scalar) ->sf.Matrix33:\n",
    "    return odo_error.jacobian(t_i)\n",
    "\n",
    "residual_func_codegen = codegen.Codegen.function(func=odo_error_func_wrt_pos_i, config=codegen.CppConfig(),)\n",
    "residual_func_codegen_data = residual_func_codegen.generate_function(output_dir=out_put_save_directory)"
   ]
  },
  {
   "cell_type": "markdown",
   "metadata": {},
   "source": [
    "### Jacobian of Odometry Error Function with respect to $t_f$"
   ]
  },
  {
   "cell_type": "code",
   "execution_count": 8,
   "metadata": {},
   "outputs": [],
   "source": [
    "def odo_error_func_wrt_pos_f(t_i: sf.V3,\n",
    "                             t_f: sf.V3,\n",
    "                             s: sf.Symbol,\n",
    "                             t_odo: sf.V3,\n",
    "                             epsilon: sf.Scalar) ->sf.Matrix33:\n",
    "    return odo_error.jacobian(t_f)\n",
    "\n",
    "residual_func_codegen = codegen.Codegen.function(func=odo_error_func_wrt_pos_f, config=codegen.CppConfig(),)\n",
    "residual_func_codegen_data = residual_func_codegen.generate_function(output_dir=out_put_save_directory)"
   ]
  },
  {
   "cell_type": "markdown",
   "metadata": {},
   "source": [
    "# Kinematic Error Function"
   ]
  },
  {
   "cell_type": "code",
   "execution_count": 9,
   "metadata": {},
   "outputs": [],
   "source": [
    "def kin_error_func(a_1: sf.V3, a_2: sf.V3, a_3: sf.V3, a_4: sf.V3,\n",
    "                   t_f: sf.V3,\n",
    "                   m_0: sf.Symbol, n_0: sf.Symbol, k_0: sf.Symbol, h_0: sf.Symbol,\n",
    "                   r_delta: sf.Symbol, r_TSTA: sf.Symbol, r_Break: sf.Symbol,\n",
    "                   theta_delta: sf.Symbol, theta_TSTA: sf.Symbol, theta_Break: sf.Symbol,\n",
    "                   epsilon: sf.Scalar) ->sf.V3:\n",
    "    return error_ik\n",
    "\n",
    "residual_func_codegen = codegen.Codegen.function(func=kin_error_func, config=codegen.CppConfig(),)\n",
    "residual_func_codegen_data = residual_func_codegen.generate_function(output_dir=out_put_save_directory)"
   ]
  },
  {
   "cell_type": "markdown",
   "metadata": {},
   "source": [
    "### Jacobian of Kinematic Error Function with respect to $a_1$"
   ]
  },
  {
   "cell_type": "code",
   "execution_count": 10,
   "metadata": {},
   "outputs": [],
   "source": [
    "def kin_error_func_wrt_a_1(a_1: sf.V3, a_2: sf.V3, a_3: sf.V3, a_4: sf.V3,\n",
    "                           t_f: sf.V3,\n",
    "                           m_0: sf.Symbol, n_0: sf.Symbol, k_0: sf.Symbol, h_0: sf.Symbol,\n",
    "                           r_delta: sf.Symbol, r_TSTA: sf.Symbol, r_Break: sf.Symbol,\n",
    "                           theta_delta: sf.Symbol, theta_TSTA: sf.Symbol, theta_Break: sf.Symbol,\n",
    "                           epsilon: sf.Scalar) ->sf.Matrix33:\n",
    "    return error_ik.jacobian(a_1)\n",
    "\n",
    "residual_func_codegen = codegen.Codegen.function(func=kin_error_func_wrt_a_1, config=codegen.CppConfig(),)\n",
    "residual_func_codegen_data = residual_func_codegen.generate_function(output_dir=out_put_save_directory)"
   ]
  },
  {
   "cell_type": "markdown",
   "metadata": {},
   "source": [
    "### Jacobian of Kinematic Error Function with respect to $a_2$"
   ]
  },
  {
   "cell_type": "code",
   "execution_count": 11,
   "metadata": {},
   "outputs": [],
   "source": [
    "def kin_error_func_wrt_a_2(a_1: sf.V3, a_2: sf.V3, a_3: sf.V3, a_4: sf.V3,\n",
    "                           t_f: sf.V3,\n",
    "                           m_0: sf.Symbol, n_0: sf.Symbol, k_0: sf.Symbol, h_0: sf.Symbol,\n",
    "                           r_delta: sf.Symbol, r_TSTA: sf.Symbol, r_Break: sf.Symbol,\n",
    "                           theta_delta: sf.Symbol, theta_TSTA: sf.Symbol, theta_Break: sf.Symbol,\n",
    "                           epsilon: sf.Scalar) ->sf.Matrix33:\n",
    "    return error_ik.jacobian(a_2)\n",
    "\n",
    "residual_func_codegen = codegen.Codegen.function(func=kin_error_func_wrt_a_2, config=codegen.CppConfig(),)\n",
    "residual_func_codegen_data = residual_func_codegen.generate_function(output_dir=out_put_save_directory)"
   ]
  },
  {
   "cell_type": "markdown",
   "metadata": {},
   "source": [
    "### Jacobian of Kinematic Error Function with respect to $a_3$"
   ]
  },
  {
   "cell_type": "code",
   "execution_count": 12,
   "metadata": {},
   "outputs": [],
   "source": [
    "def kin_error_func_wrt_a_3(a_1: sf.V3, a_2: sf.V3, a_3: sf.V3, a_4: sf.V3,\n",
    "                           t_f: sf.V3,\n",
    "                           m_0: sf.Symbol, n_0: sf.Symbol, k_0: sf.Symbol, h_0: sf.Symbol,\n",
    "                           r_delta: sf.Symbol, r_TSTA: sf.Symbol, r_Break: sf.Symbol,\n",
    "                           theta_delta: sf.Symbol, theta_TSTA: sf.Symbol, theta_Break: sf.Symbol,\n",
    "                           epsilon: sf.Scalar) ->sf.Matrix33:\n",
    "    return error_ik.jacobian(a_3)\n",
    "\n",
    "residual_func_codegen = codegen.Codegen.function(func=kin_error_func_wrt_a_3, config=codegen.CppConfig(),)\n",
    "residual_func_codegen_data = residual_func_codegen.generate_function(output_dir=out_put_save_directory)"
   ]
  },
  {
   "cell_type": "markdown",
   "metadata": {},
   "source": [
    "### Jacobian of Kinematic Error Function with respect to $a_4$"
   ]
  },
  {
   "cell_type": "code",
   "execution_count": 13,
   "metadata": {},
   "outputs": [],
   "source": [
    "def kin_error_func_wrt_a_4(a_1: sf.V3, a_2: sf.V3, a_3: sf.V3, a_4: sf.V3,\n",
    "                           t_f: sf.V3,\n",
    "                           m_0: sf.Symbol, n_0: sf.Symbol, k_0: sf.Symbol, h_0: sf.Symbol,\n",
    "                           r_delta: sf.Symbol, r_TSTA: sf.Symbol, r_Break: sf.Symbol,\n",
    "                           theta_delta: sf.Symbol, theta_TSTA: sf.Symbol, theta_Break: sf.Symbol,\n",
    "                           epsilon: sf.Scalar) ->sf.Matrix33:\n",
    "    return error_ik.jacobian(a_4)\n",
    "\n",
    "residual_func_codegen = codegen.Codegen.function(func=kin_error_func_wrt_a_4, config=codegen.CppConfig(),)\n",
    "residual_func_codegen_data = residual_func_codegen.generate_function(output_dir=out_put_save_directory)"
   ]
  },
  {
   "cell_type": "markdown",
   "metadata": {},
   "source": [
    "### Jacobian of Kinematic Error Function with respect to $t_f$"
   ]
  },
  {
   "cell_type": "code",
   "execution_count": 14,
   "metadata": {},
   "outputs": [],
   "source": [
    "def kin_error_func_wrt_pos_f(a_1: sf.V3, a_2: sf.V3, a_3: sf.V3, a_4: sf.V3,\n",
    "                             t_f: sf.V3,\n",
    "                             m_0: sf.Symbol, n_0: sf.Symbol, k_0: sf.Symbol, h_0: sf.Symbol,\n",
    "                             r_delta: sf.Symbol, r_TSTA: sf.Symbol, r_Break: sf.Symbol,\n",
    "                             theta_delta: sf.Symbol, theta_TSTA: sf.Symbol, theta_Break: sf.Symbol,\n",
    "                             epsilon: sf.Scalar) ->sf.Matrix33:\n",
    "    return error_ik.jacobian(t_f)\n",
    "\n",
    "residual_func_codegen = codegen.Codegen.function(func=kin_error_func_wrt_pos_f, config=codegen.CppConfig(),)\n",
    "residual_func_codegen_data = residual_func_codegen.generate_function(output_dir=out_put_save_directory)"
   ]
  },
  {
   "cell_type": "markdown",
   "metadata": {},
   "source": [
    "### Jacobian of Kinematic Error Function with respect to $m_0$"
   ]
  },
  {
   "cell_type": "code",
   "execution_count": 15,
   "metadata": {},
   "outputs": [],
   "source": [
    "def kin_error_func_wrt_m_0(a_1: sf.V3, a_2: sf.V3, a_3: sf.V3, a_4: sf.V3,\n",
    "                           t_f: sf.V3,\n",
    "                           m_0: sf.Symbol, n_0: sf.Symbol, k_0: sf.Symbol, h_0: sf.Symbol,\n",
    "                           r_delta: sf.Symbol, r_TSTA: sf.Symbol, r_Break: sf.Symbol,\n",
    "                           theta_delta: sf.Symbol, theta_TSTA: sf.Symbol, theta_Break: sf.Symbol,\n",
    "                           epsilon: sf.Scalar) ->sf.V3:\n",
    "    return error_ik.diff(m_0)\n",
    "\n",
    "residual_func_codegen = codegen.Codegen.function(func=kin_error_func_wrt_m_0, config=codegen.CppConfig(),)\n",
    "residual_func_codegen_data = residual_func_codegen.generate_function(output_dir=out_put_save_directory)"
   ]
  },
  {
   "cell_type": "markdown",
   "metadata": {},
   "source": [
    "### Jacobian of Kinematic Error Function with respect to $n_0$"
   ]
  },
  {
   "cell_type": "code",
   "execution_count": 16,
   "metadata": {},
   "outputs": [],
   "source": [
    "def kin_error_func_wrt_n_0(a_1: sf.V3, a_2: sf.V3, a_3: sf.V3, a_4: sf.V3,\n",
    "                           t_f: sf.V3,\n",
    "                           m_0: sf.Symbol, n_0: sf.Symbol, k_0: sf.Symbol, h_0: sf.Symbol,\n",
    "                           r_delta: sf.Symbol, r_TSTA: sf.Symbol, r_Break: sf.Symbol,\n",
    "                           theta_delta: sf.Symbol, theta_TSTA: sf.Symbol, theta_Break: sf.Symbol,\n",
    "                           epsilon: sf.Scalar) ->sf.V3:\n",
    "    return error_ik.diff(n_0)\n",
    "\n",
    "residual_func_codegen = codegen.Codegen.function(func=kin_error_func_wrt_n_0, config=codegen.CppConfig(),)\n",
    "residual_func_codegen_data = residual_func_codegen.generate_function(output_dir=out_put_save_directory)"
   ]
  },
  {
   "cell_type": "markdown",
   "metadata": {},
   "source": [
    "### Jacobian of Kinematic Error Function with respect to $k_0$"
   ]
  },
  {
   "cell_type": "code",
   "execution_count": 17,
   "metadata": {},
   "outputs": [],
   "source": [
    "def kin_error_func_wrt_k_0(a_1: sf.V3, a_2: sf.V3, a_3: sf.V3, a_4: sf.V3,\n",
    "                           t_f: sf.V3,\n",
    "                           m_0: sf.Symbol, n_0: sf.Symbol, k_0: sf.Symbol, h_0: sf.Symbol,\n",
    "                           r_delta: sf.Symbol, r_TSTA: sf.Symbol, r_Break: sf.Symbol,\n",
    "                           theta_delta: sf.Symbol, theta_TSTA: sf.Symbol, theta_Break: sf.Symbol,\n",
    "                           epsilon: sf.Scalar) ->sf.V3:\n",
    "    return error_ik.diff(k_0)\n",
    "\n",
    "residual_func_codegen = codegen.Codegen.function(func=kin_error_func_wrt_k_0, config=codegen.CppConfig(),)\n",
    "residual_func_codegen_data = residual_func_codegen.generate_function(output_dir=out_put_save_directory)"
   ]
  },
  {
   "cell_type": "markdown",
   "metadata": {},
   "source": [
    "### Jacobian of Kinematic Error Function with respect to $h_0$"
   ]
  },
  {
   "cell_type": "code",
   "execution_count": 18,
   "metadata": {},
   "outputs": [],
   "source": [
    "def kin_error_func_wrt_h_0(a_1: sf.V3, a_2: sf.V3, a_3: sf.V3, a_4: sf.V3,\n",
    "                           t_f: sf.V3,\n",
    "                           m_0: sf.Symbol, n_0: sf.Symbol, k_0: sf.Symbol, h_0: sf.Symbol,\n",
    "                           r_delta: sf.Symbol, r_TSTA: sf.Symbol, r_Break: sf.Symbol,\n",
    "                           theta_delta: sf.Symbol, theta_TSTA: sf.Symbol, theta_Break: sf.Symbol,\n",
    "                           epsilon: sf.Scalar) ->sf.V3:\n",
    "    return error_ik.diff(h_0)\n",
    "\n",
    "residual_func_codegen = codegen.Codegen.function(func=kin_error_func_wrt_h_0, config=codegen.CppConfig(),)\n",
    "residual_func_codegen_data = residual_func_codegen.generate_function(output_dir=out_put_save_directory)"
   ]
  }
 ],
 "metadata": {
  "kernelspec": {
   "display_name": "Python 3",
   "language": "python",
   "name": "python3"
  },
  "language_info": {
   "codemirror_mode": {
    "name": "ipython",
    "version": 3
   },
   "file_extension": ".py",
   "mimetype": "text/x-python",
   "name": "python",
   "nbconvert_exporter": "python",
   "pygments_lexer": "ipython3",
   "version": "3.8.10"
  }
 },
 "nbformat": 4,
 "nbformat_minor": 2
}
