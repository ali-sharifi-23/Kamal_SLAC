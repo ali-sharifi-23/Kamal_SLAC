{
 "cells": [
  {
   "cell_type": "code",
   "execution_count": 1,
   "metadata": {},
   "outputs": [],
   "source": [
    "import numpy as np\n",
    "import symforce\n",
    "import os\n",
    "\n",
    "# Symforce setup\n",
    "symforce.set_symbolic_api(\"symengine\")\n",
    "symforce.set_log_level(\"warning\")\n",
    "symforce.set_epsilon_to_symbol()\n",
    "\n",
    "from symforce import codegen\n",
    "from symforce.codegen import codegen_util\n",
    "from symforce import ops\n",
    "import symforce.symbolic as sf\n",
    "from symforce.values import Values\n",
    "from symforce.notebook_util import display, display_code, display_code_file\n",
    "\n",
    "out_put_save_directory = os.getcwd()"
   ]
  },
  {
   "cell_type": "code",
   "execution_count": 2,
   "metadata": {},
   "outputs": [
    {
     "ename": "TypeError",
     "evalue": "unsupported operand type(s) for *: 'Symbol' and 'Rot3'",
     "output_type": "error",
     "traceback": [
      "\u001b[0;31m---------------------------------------------------------------------------\u001b[0m",
      "\u001b[0;31mTypeError\u001b[0m                                 Traceback (most recent call last)",
      "Cell \u001b[0;32mIn[2], line 12\u001b[0m\n\u001b[1;32m     10\u001b[0m t_odo \u001b[38;5;241m=\u001b[39m sf\u001b[38;5;241m.\u001b[39mV3\u001b[38;5;241m.\u001b[39msymbolic(\u001b[38;5;124m\"\u001b[39m\u001b[38;5;124mt_odo\u001b[39m\u001b[38;5;124m\"\u001b[39m)\n\u001b[1;32m     11\u001b[0m s \u001b[38;5;241m=\u001b[39m sf\u001b[38;5;241m.\u001b[39mSymbol(\u001b[38;5;124m'\u001b[39m\u001b[38;5;124ms\u001b[39m\u001b[38;5;124m'\u001b[39m)\n\u001b[0;32m---> 12\u001b[0m T_odo \u001b[38;5;241m=\u001b[39m sf\u001b[38;5;241m.\u001b[39mPose3(R\u001b[38;5;241m=\u001b[39m\u001b[43ms\u001b[49m\u001b[38;5;241;43m*\u001b[39;49m\u001b[43mRot_odo\u001b[49m, t\u001b[38;5;241m=\u001b[39ms\u001b[38;5;241m*\u001b[39mt_odo)\n\u001b[1;32m     13\u001b[0m display(T_odo)\n\u001b[1;32m     15\u001b[0m a_1 \u001b[38;5;241m=\u001b[39m sf\u001b[38;5;241m.\u001b[39mV3\u001b[38;5;241m.\u001b[39msymbolic(\u001b[38;5;124m\"\u001b[39m\u001b[38;5;124ma_1\u001b[39m\u001b[38;5;124m\"\u001b[39m)\n",
      "\u001b[0;31mTypeError\u001b[0m: unsupported operand type(s) for *: 'Symbol' and 'Rot3'"
     ]
    }
   ],
   "source": [
    "t_i = sf.V3.symbolic(\"t_i\")\n",
    "Rot_i = sf.Rot3.symbolic(\"Rot_i\")\n",
    "X_i = sf.Pose3(R=Rot_i, t=t_i)\n",
    "\n",
    "t_f = sf.V3.symbolic(\"t_f\")\n",
    "Rot_f = sf.Rot3.symbolic(\"Rot_f\")\n",
    "X_f = sf.Pose3(R=Rot_f, t=t_f)\n",
    "\n",
    "Rot_odo = sf.Rot3.symbolic(\"Rot_odo\")\n",
    "t_odo = sf.V3.symbolic(\"t_odo\")\n",
    "s = sf.Symbol('s')\n",
    "T_odo = sf.Pose3(R=s*Rot_odo, t=s*t_odo)\n",
    "display(T_odo)\n",
    "\n",
    "a_1 = sf.V3.symbolic(\"a_1\")\n",
    "a_2 = sf.V3.symbolic(\"a_2\")\n",
    "a_3 = sf.V3.symbolic(\"a_3\")\n",
    "a_4 = sf.V3.symbolic(\"a_4\")\n",
    "\n",
    "r_delta, r_TSTA, r_Break = sf.symbols(\"r_delta r_TSTA r_Break\")\n",
    "theta_delta, theta_TSTA, theta_Break = sf.symbols(\"theta_delta theta_TSTA theta_Break\")\n",
    "m_0, n_0, k_0, h_0 = sf.symbols(\"m_0 n_0 k_0 h_0\")\n",
    "l_0 = sf.V3.symbolic(\"\")\n",
    "l = sf.V3.symbolic(\"\")\n",
    "delta_l = sf.V3.symbolic(\"\")"
   ]
  },
  {
   "cell_type": "markdown",
   "metadata": {},
   "source": [
    "Odometry Error Model"
   ]
  },
  {
   "cell_type": "code",
   "execution_count": null,
   "metadata": {},
   "outputs": [
    {
     "name": "stdout",
     "output_type": "stream",
     "text": [
      "6\n"
     ]
    }
   ],
   "source": [
    "odo_error = X_f.inverse() * X_i * T_odo.inverse()\n",
    "odo_error_in_tangent_list = odo_error.to_tangent()\n",
    "\n",
    "print(len(odo_error_in_tangent_list))\n",
    "odo_error_in_tangent = sf.V6()\n",
    "odo_error_in_tangent[0] = odo_error_in_tangent_list[0]\n",
    "odo_error_in_tangent[1] = odo_error_in_tangent_list[1]\n",
    "odo_error_in_tangent[2] = odo_error_in_tangent_list[2]\n",
    "odo_error_in_tangent[3] = odo_error_in_tangent_list[3]\n",
    "odo_error_in_tangent[4] = odo_error_in_tangent_list[4]\n",
    "odo_error_in_tangent[5] = odo_error_in_tangent_list[5]"
   ]
  },
  {
   "cell_type": "code",
   "execution_count": null,
   "metadata": {},
   "outputs": [],
   "source": [
    "# forward kinematic\n",
    "# l_0[0] = m_0 + n_0\n",
    "# l_0[1] = m_0 + 2*k_0\n",
    "# l_0[2] = n_0 + 2*h_0\n",
    "# l[0] = r_delta*theta_delta + l_0[0]\n",
    "# l[1] = r_TSTA*theta_TSTA + l_0[1]\n",
    "# l[2] = r_Break*theta_Break + l_0[2]\n",
    "# m = (2*l[0] + 0.5*(l[1] + l[2] - l[0]))/(l[0]**2 - 0.25*(l[2]**2 + l[0]**2 - 2*l[0]*l[2] - l[1]**2))\n",
    "# n = l[0] - m\n",
    "# k = 0.5*(l[1] - m)\n",
    "# h = 0.5*(l[2] - n)\n",
    "# t_fk = sf.V3.symbolic(\"t_fk\")\n",
    "# t_fk[0] = (m**2 - n**2 + a_2[0]**2)/(2*a_2[0])\n",
    "# t_fk[1] = a_2[1] - sf.sqrt(m**2 - t_fk[0]**2)\n",
    "# t_fk[2] = 0\n",
    "# error_fk = t_fk - t_f\n",
    "\n",
    "# inverse kinematic\n",
    "l_0[0] = m_0 + n_0\n",
    "l_0[1] = m_0 + 2*k_0\n",
    "l_0[2] = n_0 + 2*h_0\n",
    "m = sf.sqrt((t_f[0] - a_1[0])**2 + (t_f[1] - a_1[1])**2)\n",
    "n = sf.sqrt((t_f[0] - a_2[0])**2 + (t_f[1] - a_2[1])**2)\n",
    "k = sf.sqrt((t_f[0] - a_3[0])**2 + (t_f[1] - a_3[1])**2)\n",
    "h = sf.sqrt((t_f[0] - a_4[0])**2 + (t_f[1] - a_4[1])**2)\n",
    "l[0] = m + n\n",
    "l[1] = m + 2*k\n",
    "l[2] = n + 2*h\n",
    "delta_l[0] = r_delta*theta_delta\n",
    "delta_l[1] = r_TSTA*theta_TSTA\n",
    "delta_l[2] = r_Break*theta_Break\n",
    "error_ik = l - l_0 - delta_l"
   ]
  },
  {
   "cell_type": "markdown",
   "metadata": {},
   "source": [
    "# Odometry Error Function"
   ]
  },
  {
   "cell_type": "code",
   "execution_count": null,
   "metadata": {},
   "outputs": [],
   "source": [
    "def odo_error_func(Rot_i: sf.Rot3, t_i: sf.V3,\n",
    "                   Rot_f: sf.Rot3, t_f: sf.V3,\n",
    "                   Rot_odo: sf.Rot3, t_odo: sf.V3,\n",
    "                   s: sf.Symbol,\n",
    "                   epsilon: sf.Scalar):\n",
    "    return odo_error_in_tangent\n",
    "\n",
    "residual_func_codegen = codegen.Codegen.function(func=odo_error_func, config=codegen.CppConfig(),)\n",
    "residual_func_codegen_data = residual_func_codegen.generate_function(output_dir=out_put_save_directory)"
   ]
  },
  {
   "cell_type": "markdown",
   "metadata": {},
   "source": [
    "### Jacobian of Odometry Error Function with respect to $s$"
   ]
  },
  {
   "cell_type": "code",
   "execution_count": null,
   "metadata": {},
   "outputs": [],
   "source": [
    "def odo_error_func_wrt_s(Rot_i: sf.Rot3, t_i: sf.V3,\n",
    "                         Rot_f: sf.Rot3, t_f: sf.V3,\n",
    "                         Rot_odo: sf.Rot3, t_odo: sf.V3,\n",
    "                         s: sf.Symbol,\n",
    "                         epsilon: sf.Scalar):\n",
    "                         \n",
    "    return odo_error_in_tangent.diff(s)\n",
    "\n",
    "residual_func_codegen = codegen.Codegen.function(func=odo_error_func_wrt_s, config=codegen.CppConfig(),)\n",
    "residual_func_codegen_data = residual_func_codegen.generate_function(output_dir=out_put_save_directory)"
   ]
  },
  {
   "cell_type": "markdown",
   "metadata": {},
   "source": [
    "### Jacobian of Odometry Error Function with respect to $X_i$"
   ]
  },
  {
   "cell_type": "code",
   "execution_count": null,
   "metadata": {},
   "outputs": [],
   "source": [
    "def odo_error_func_wrt_pos_i(Rot_i: sf.Rot3, t_i: sf.V3,\n",
    "                         Rot_f: sf.Rot3, t_f: sf.V3,\n",
    "                         Rot_odo: sf.Rot3, t_odo: sf.V3,\n",
    "                         s: sf.Symbol,\n",
    "                         epsilon: sf.Scalar):\n",
    "    return odo_error_in_tangent.jacobian(X_i)\n",
    "\n",
    "residual_func_codegen = codegen.Codegen.function(func=odo_error_func_wrt_pos_i, config=codegen.CppConfig(),)\n",
    "residual_func_codegen_data = residual_func_codegen.generate_function(output_dir=out_put_save_directory)"
   ]
  },
  {
   "cell_type": "markdown",
   "metadata": {},
   "source": [
    "### Jacobian of Odometry Error Function with respect to $X_f$"
   ]
  },
  {
   "cell_type": "code",
   "execution_count": null,
   "metadata": {},
   "outputs": [],
   "source": [
    "def odo_error_func_wrt_pos_f(Rot_i: sf.Rot3, t_i: sf.V3,\n",
    "                         Rot_f: sf.Rot3, t_f: sf.V3,\n",
    "                         Rot_odo: sf.Rot3, t_odo: sf.V3,\n",
    "                         s: sf.Symbol,\n",
    "                         epsilon: sf.Scalar):\n",
    "    return odo_error_in_tangent.jacobian(X_f)\n",
    "\n",
    "residual_func_codegen = codegen.Codegen.function(func=odo_error_func_wrt_pos_f, config=codegen.CppConfig(),)\n",
    "residual_func_codegen_data = residual_func_codegen.generate_function(output_dir=out_put_save_directory)"
   ]
  },
  {
   "cell_type": "markdown",
   "metadata": {},
   "source": [
    "# Kinematic Error Function"
   ]
  },
  {
   "cell_type": "code",
   "execution_count": null,
   "metadata": {},
   "outputs": [],
   "source": [
    "def kin_error_func(r_delta: sf.Symbol, r_TSTA: sf.Symbol, r_Break: sf.Symbol,\n",
    "                   theta_delta: sf.Symbol, theta_TSTA: sf.Symbol, theta_Break: sf.Symbol,\n",
    "                   a_1: sf.V3, a_2: sf.V3, a_3: sf.V3, a_4: sf.V3,\n",
    "                   m_0: sf.Symbol, n_0: sf.Symbol, k_0: sf.Symbol, h_0: sf.Symbol,\n",
    "                   t_f: sf.V3) ->sf.Matrix:\n",
    "    return error_ik\n",
    "residual_func_codegen = codegen.Codegen.function(func=kin_error_func, config=codegen.CppConfig(),)\n",
    "residual_func_codegen_data = residual_func_codegen.generate_function(output_dir=out_put_save_directory)"
   ]
  },
  {
   "cell_type": "markdown",
   "metadata": {},
   "source": [
    "### Jacobian of Kinematic Error Function with respect to $a_1$"
   ]
  },
  {
   "cell_type": "code",
   "execution_count": null,
   "metadata": {},
   "outputs": [],
   "source": [
    "def kin_error_func_wrt_a_1(r_delta: sf.Symbol, r_TSTA: sf.Symbol, r_Break: sf.Symbol,\n",
    "                   theta_delta: sf.Symbol, theta_TSTA: sf.Symbol, theta_Break: sf.Symbol,\n",
    "                   a_1: sf.V2, a_2: sf.V2, a_3: sf.V2, a_4: sf.V2,\n",
    "                   m_0: sf.Symbol, n_0: sf.Symbol, k_0: sf.Symbol, h_0: sf.Symbol,\n",
    "                   t_f: sf.V3) ->sf.Matrix:\n",
    "    error = error_ik.jacobian(a_1)\n",
    "    return error\n",
    "residual_func_codegen = codegen.Codegen.function(func=kin_error_func_wrt_a_1, config=codegen.CppConfig(),)\n",
    "residual_func_codegen_data = residual_func_codegen.generate_function(output_dir=out_put_save_directory)"
   ]
  },
  {
   "cell_type": "markdown",
   "metadata": {},
   "source": [
    "### Jacobian of Kinematic Error Function with respect to $a_2$"
   ]
  },
  {
   "cell_type": "code",
   "execution_count": null,
   "metadata": {},
   "outputs": [],
   "source": [
    "def kin_error_func_wrt_a_2(r_delta: sf.Symbol, r_TSTA: sf.Symbol, r_Break: sf.Symbol,\n",
    "                   theta_delta: sf.Symbol, theta_TSTA: sf.Symbol, theta_Break: sf.Symbol,\n",
    "                   a_1: sf.V2, a_2: sf.V2, a_3: sf.V2, a_4: sf.V2,\n",
    "                   m_0: sf.Symbol, n_0: sf.Symbol, k_0: sf.Symbol, h_0: sf.Symbol,\n",
    "                   t_f: sf.V3) ->sf.Matrix:\n",
    "    error = error_ik.jacobian(a_2)\n",
    "    return error\n",
    "residual_func_codegen = codegen.Codegen.function(func=kin_error_func_wrt_a_2, config=codegen.CppConfig(),)\n",
    "residual_func_codegen_data = residual_func_codegen.generate_function(output_dir=out_put_save_directory)"
   ]
  },
  {
   "cell_type": "markdown",
   "metadata": {},
   "source": [
    "### Jacobian of Kinematic Error Function with respect to $a_3$"
   ]
  },
  {
   "cell_type": "code",
   "execution_count": null,
   "metadata": {},
   "outputs": [],
   "source": [
    "def kin_error_func_wrt_a_3(r_delta: sf.Symbol, r_TSTA: sf.Symbol, r_Break: sf.Symbol,\n",
    "                   theta_delta: sf.Symbol, theta_TSTA: sf.Symbol, theta_Break: sf.Symbol,\n",
    "                   a_1: sf.V2, a_2: sf.V2, a_3: sf.V2, a_4: sf.V2,\n",
    "                   m_0: sf.Symbol, n_0: sf.Symbol, k_0: sf.Symbol, h_0: sf.Symbol,\n",
    "                   t_f: sf.V3) ->sf.Matrix:\n",
    "    error = error_ik.jacobian(a_3)\n",
    "    return error\n",
    "residual_func_codegen = codegen.Codegen.function(func=kin_error_func_wrt_a_3, config=codegen.CppConfig(),)\n",
    "residual_func_codegen_data = residual_func_codegen.generate_function(output_dir=out_put_save_directory)"
   ]
  },
  {
   "cell_type": "markdown",
   "metadata": {},
   "source": [
    "### Jacobian of Kinematic Error Function with respect to $a_4$"
   ]
  },
  {
   "cell_type": "code",
   "execution_count": null,
   "metadata": {},
   "outputs": [],
   "source": [
    "def kin_error_func_wrt_a_4(r_delta: sf.Symbol, r_TSTA: sf.Symbol, r_Break: sf.Symbol,\n",
    "                   theta_delta: sf.Symbol, theta_TSTA: sf.Symbol, theta_Break: sf.Symbol,\n",
    "                   a_1: sf.V2, a_2: sf.V2, a_3: sf.V2, a_4: sf.V2,\n",
    "                   m_0: sf.Symbol, n_0: sf.Symbol, k_0: sf.Symbol, h_0: sf.Symbol,\n",
    "                   t_f: sf.V3) ->sf.Matrix:\n",
    "    error = error_ik.jacobian(a_4)\n",
    "    return error\n",
    "residual_func_codegen = codegen.Codegen.function(func=kin_error_func_wrt_a_4, config=codegen.CppConfig(),)\n",
    "residual_func_codegen_data = residual_func_codegen.generate_function(output_dir=out_put_save_directory)"
   ]
  },
  {
   "cell_type": "markdown",
   "metadata": {},
   "source": [
    "### Jacobian of Kinematic Error Function with respect to $X_f$"
   ]
  },
  {
   "cell_type": "code",
   "execution_count": null,
   "metadata": {},
   "outputs": [],
   "source": [
    "def kin_error_func_wrt_X_f(r_delta: sf.Symbol, r_TSTA: sf.Symbol, r_Break: sf.Symbol,\n",
    "                   theta_delta: sf.Symbol, theta_TSTA: sf.Symbol, theta_Break: sf.Symbol,\n",
    "                   a_1: sf.V2, a_2: sf.V2, a_3: sf.V2, a_4: sf.V2,\n",
    "                   m_0: sf.Symbol, n_0: sf.Symbol, k_0: sf.Symbol, h_0: sf.Symbol,\n",
    "                   t_f: sf.V3) ->sf.Matrix:\n",
    "    error = error_ik.jacobian(t_f)\n",
    "    return error\n",
    "residual_func_codegen = codegen.Codegen.function(func=kin_error_func_wrt_X_f, config=codegen.CppConfig(),)\n",
    "residual_func_codegen_data = residual_func_codegen.generate_function(output_dir=out_put_save_directory)"
   ]
  },
  {
   "cell_type": "markdown",
   "metadata": {},
   "source": [
    "### Jacobian of Kinematic Error Function with respect to $m_0$"
   ]
  },
  {
   "cell_type": "code",
   "execution_count": null,
   "metadata": {},
   "outputs": [],
   "source": [
    "def kin_error_func_wrt_m_0(r_delta: sf.Symbol, r_TSTA: sf.Symbol, r_Break: sf.Symbol,\n",
    "                   theta_delta: sf.Symbol, theta_TSTA: sf.Symbol, theta_Break: sf.Symbol,\n",
    "                   a_1: sf.V2, a_2: sf.V2, a_3: sf.V2, a_4: sf.V2,\n",
    "                   m_0: sf.Symbol, n_0: sf.Symbol, k_0: sf.Symbol, h_0: sf.Symbol,\n",
    "                   t_f: sf.V3) ->sf.Matrix:\n",
    "    error = error_ik.diff(m_0)\n",
    "    return error\n",
    "residual_func_codegen = codegen.Codegen.function(func=kin_error_func_wrt_m_0, config=codegen.CppConfig(),)\n",
    "residual_func_codegen_data = residual_func_codegen.generate_function(output_dir=out_put_save_directory)"
   ]
  },
  {
   "cell_type": "markdown",
   "metadata": {},
   "source": [
    "### Jacobian of Kinematic Error Function with respect to $n_0$"
   ]
  },
  {
   "cell_type": "code",
   "execution_count": null,
   "metadata": {},
   "outputs": [],
   "source": [
    "def kin_error_func_wrt_n_0(r_delta: sf.Symbol, r_TSTA: sf.Symbol, r_Break: sf.Symbol,\n",
    "                   theta_delta: sf.Symbol, theta_TSTA: sf.Symbol, theta_Break: sf.Symbol,\n",
    "                   a_1: sf.V2, a_2: sf.V2, a_3: sf.V2, a_4: sf.V2,\n",
    "                   m_0: sf.Symbol, n_0: sf.Symbol, k_0: sf.Symbol, h_0: sf.Symbol,\n",
    "                   t_f: sf.V3) ->sf.Matrix:\n",
    "    error = error_ik.diff(n_0)\n",
    "    return error\n",
    "residual_func_codegen = codegen.Codegen.function(func=kin_error_func_wrt_n_0, config=codegen.CppConfig(),)\n",
    "residual_func_codegen_data = residual_func_codegen.generate_function(output_dir=out_put_save_directory)"
   ]
  },
  {
   "cell_type": "markdown",
   "metadata": {},
   "source": [
    "### Jacobian of Kinematic Error Function with respect to $k_0$"
   ]
  },
  {
   "cell_type": "code",
   "execution_count": null,
   "metadata": {},
   "outputs": [],
   "source": [
    "def kin_error_func_wrt_k_0(r_delta: sf.Symbol, r_TSTA: sf.Symbol, r_Break: sf.Symbol,\n",
    "                   theta_delta: sf.Symbol, theta_TSTA: sf.Symbol, theta_Break: sf.Symbol,\n",
    "                   a_1: sf.V2, a_2: sf.V2, a_3: sf.V2, a_4: sf.V2,\n",
    "                   m_0: sf.Symbol, n_0: sf.Symbol, k_0: sf.Symbol, h_0: sf.Symbol,\n",
    "                   t_f: sf.V3) ->sf.Matrix:\n",
    "    error = error_ik.diff(k_0)\n",
    "    return error\n",
    "residual_func_codegen = codegen.Codegen.function(func=kin_error_func_wrt_k_0, config=codegen.CppConfig(),)\n",
    "residual_func_codegen_data = residual_func_codegen.generate_function(output_dir=out_put_save_directory)"
   ]
  },
  {
   "cell_type": "markdown",
   "metadata": {},
   "source": [
    "### Jacobian of Kinematic Error Function with respect to $h_0$"
   ]
  },
  {
   "cell_type": "code",
   "execution_count": null,
   "metadata": {},
   "outputs": [],
   "source": [
    "def kin_error_func_wrt_h_0(r_delta: sf.Symbol, r_TSTA: sf.Symbol, r_Break: sf.Symbol,\n",
    "                   theta_delta: sf.Symbol, theta_TSTA: sf.Symbol, theta_Break: sf.Symbol,\n",
    "                   a_1: sf.V2, a_2: sf.V2, a_3: sf.V2, a_4: sf.V2,\n",
    "                   m_0: sf.Symbol, n_0: sf.Symbol, k_0: sf.Symbol, h_0: sf.Symbol,\n",
    "                   t_f: sf.V3) ->sf.Matrix:\n",
    "    error = error_ik.diff(h_0)\n",
    "    return error\n",
    "residual_func_codegen = codegen.Codegen.function(func=kin_error_func_wrt_h_0, config=codegen.CppConfig(),)\n",
    "residual_func_codegen_data = residual_func_codegen.generate_function(output_dir=out_put_save_directory)"
   ]
  }
 ],
 "metadata": {
  "kernelspec": {
   "display_name": "Python 3",
   "language": "python",
   "name": "python3"
  },
  "language_info": {
   "codemirror_mode": {
    "name": "ipython",
    "version": 3
   },
   "file_extension": ".py",
   "mimetype": "text/x-python",
   "name": "python",
   "nbconvert_exporter": "python",
   "pygments_lexer": "ipython3",
   "version": "3.8.10"
  }
 },
 "nbformat": 4,
 "nbformat_minor": 2
}
