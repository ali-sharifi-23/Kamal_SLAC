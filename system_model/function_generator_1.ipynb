{
 "cells": [
  {
   "cell_type": "code",
   "execution_count": null,
   "metadata": {},
   "outputs": [],
   "source": [
    "import numpy as np\n",
    "import symforce\n",
    "import sympy as sp\n",
    "import os \n",
    "\n",
    "symforce.set_symbolic_api(\"symengine\")\n",
    "symforce.set_log_level(\"warning\")\n",
    "\n",
    "symforce.set_epsilon_to_symbol()\n",
    "\n",
    "from symforce import codegen\n",
    "from symforce.codegen import codegen_util\n",
    "from symforce import ops\n",
    "import symforce.symbolic as sf\n",
    "from symforce.values import Values\n",
    "from symforce.notebook_util import display, display_code, display_code_file\n",
    "from itertools import permutations\n",
    "\n",
    "out_put_save_directory = os.getcwd()"
   ]
  },
  {
   "cell_type": "code",
   "execution_count": null,
   "metadata": {},
   "outputs": [],
   "source": [
    "# initial pose\n",
    "t_i = sf.V3.symbolic(\"t_i\")\n",
    "Rot_i = sf.Rot3.symbolic(\"Rot_i\").to_rotation_matrix()\n",
    "X_i = sf.Matrix44.eye()\n",
    "X_i[:3, :3] = Rot_i\n",
    "X_i[:3, 3] = t_i\n",
    "# X_i = X_i.simplify()\n",
    "# final pose\n",
    "t_f = sf.V3.symbolic(\"t_f\")\n",
    "Rot_f = sf.Rot3.symbolic(\"Rot_f\").to_rotation_matrix()\n",
    "X_f = sf.Matrix44.eye()\n",
    "X_f[:3, :3] = Rot_f\n",
    "X_f[:3, 3] = t_f\n",
    "# odometry measurment\n",
    "Rot_odo = sf.Rot3.symbolic(\"Rot_odo\").to_rotation_matrix()\n",
    "t_odo = sf.V3.symbolic(\"t_odo\")\n",
    "s = sf.Symbol('s')\n",
    "\n",
    "T_odo = sf.Matrix44.eye()\n",
    "T_odo[:3, :3] = Rot_odo\n",
    "T_odo[:3, 3] = t_odo\n",
    "T_odo[3, 3] = 1/s\n",
    "error = X_f*X_i.inv() - T_odo\n",
    "error_in_tangent_list = error.to_tangent()\n",
    "error_in_tangent = sf.V6.symbolic(\"\")\n",
    "error_in_tangent[0] = error_in_tangent_list[0]\n",
    "error_in_tangent[1] = error_in_tangent_list[1]\n",
    "error_in_tangent[2] = error_in_tangent_list[2]\n",
    "error_in_tangent[3] = error_in_tangent_list[3]\n",
    "error_in_tangent[4] = error_in_tangent_list[4]\n",
    "error_in_tangent[5] = error_in_tangent_list[5]\n",
    "# error_in_tangent = error_in_tangent.simplify()\n",
    "# anchor points\n",
    "a_1 = sf.V2.symbolic(\"a_1\")\n",
    "a_2 = sf.V2.symbolic(\"a_2\")\n",
    "a_3 = sf.V2.symbolic(\"a_3\")\n",
    "a_4 = sf.V2.symbolic(\"a_4\")\n",
    "# radius of drums\n",
    "r_delta, r_TSTA, r_Break = sf.symbols(\"r_delta r_TSTA r_Break\")\n",
    "# encoder\n",
    "theta_delta, theta_TSTA, theta_Break = sf.symbols(\"theta_delta theta_TSTA theta_Break\")\n",
    "# elements of initial length of cables\n",
    "m_0, n_0, k_0, h_0 = sf.symbols(\"m_0 n_0 k_0 h_0\")\n",
    "l_0 = sf.V3.symbolic(\"\")\n",
    "l_0[0] = m_0 + n_0\n",
    "l_0[1] = m_0 + 2*k_0\n",
    "l_0[2] = n_0 + 2*h_0\n",
    "l = sf.V3.symbolic(\"\")\n",
    "l[0] = r_delta*theta_delta + l_0[0]\n",
    "l[1] = r_TSTA*theta_TSTA + l_0[1]\n",
    "l[2] = r_Break*theta_Break + l_0[2]\n",
    "m = (2*l[0] + 0.5*(l[1] + l[2] - l[0]))/(l[0]**2 - 0.25*(l[2]**2 + l[0]**2 - 2*l[0]*l[2] - l[1]**2))\n",
    "n = l[0] - m\n",
    "k = 0.5*(l[1] - m)\n",
    "h = 0.5*(l[2] - n)\n",
    "X_fk = sf.Matrix44.eye()\n",
    "X_fk[0,2] = (m**2 - n**2 + a_2[0]**2)/(2*a_2[0])\n",
    "X_fk[1,2] = a_2[1] - sf.sqrt(m**2 - X_fk[0]**2)\n",
    "error_fk = X_fk - X_f\n",
    "error_fk_in_tangent_list = error_fk.to_tangent()\n",
    "error_fk_in_tangent = sf.V6.symbolic(\"\")\n",
    "error_fk_in_tangent[0] = error_fk_in_tangent_list[0]\n",
    "error_fk_in_tangent[1] = error_fk_in_tangent_list[1]\n",
    "error_fk_in_tangent[2] = error_fk_in_tangent_list[2]\n",
    "error_fk_in_tangent[3] = error_fk_in_tangent_list[3]\n",
    "error_fk_in_tangent[4] = error_fk_in_tangent_list[4]\n",
    "error_fk_in_tangent[5] = error_fk_in_tangent_list[5]"
   ]
  },
  {
   "cell_type": "markdown",
   "metadata": {},
   "source": [
    "# Odometry Error Function"
   ]
  },
  {
   "cell_type": "code",
   "execution_count": null,
   "metadata": {},
   "outputs": [],
   "source": [
    "def odo_error_func(Rot_i: sf.Rot3.symbolic(\"Rot_i\"), t_i: sf.V3.symbolic(\"t_i\"),\n",
    "                   Rot_f: sf.Rot3.symbolic(\"Rot_f\"), t_f: sf.V3.symbolic(\"t_f\"),\n",
    "                   Rot_odo: sf.Rot3.symbolic(\"Rot_odo\"), t_odo: sf.V3.symbolic(\"t_odo\"),\n",
    "                   s: sf.Symbol('s')) ->sf.V6:\n",
    "    return error_in_tangent\n",
    "residual_func_codegen = codegen.Codegen.function(func=odo_error_func, config=codegen.CppConfig(),)\n",
    "residual_func_codegen_data = residual_func_codegen.generate_function(output_dir=out_put_save_directory)"
   ]
  },
  {
   "cell_type": "markdown",
   "metadata": {},
   "source": [
    "### Jacobian of Odometry Error Function with respect to $s$"
   ]
  },
  {
   "cell_type": "code",
   "execution_count": null,
   "metadata": {},
   "outputs": [],
   "source": [
    "def odo_error_func_wrt_s(Rot_i: sf.Rot3.symbolic(\"Rot_i\"), t_i: sf.V3.symbolic(\"t_i\"),\n",
    "                   Rot_f: sf.Rot3.symbolic(\"Rot_f\"), t_f: sf.V3.symbolic(\"t_f\"),\n",
    "                   Rot_odo: sf.Rot3.symbolic(\"Rot_odo\"), t_odo: sf.V3.symbolic(\"t_odo\"),\n",
    "                   s: sf.Symbol('s')) ->sf.Matrix:\n",
    "    error_wrt_s = error_in_tangent.diff(s)\n",
    "    return error_wrt_s\n",
    "residual_func_codegen = codegen.Codegen.function(func=odo_error_func_wrt_s, config=codegen.CppConfig(),)\n",
    "residual_func_codegen_data = residual_func_codegen.generate_function(output_dir=out_put_save_directory)"
   ]
  },
  {
   "cell_type": "markdown",
   "metadata": {},
   "source": [
    "### Jacobian of Odometry Error Function with respect to $X_i$"
   ]
  },
  {
   "cell_type": "code",
   "execution_count": null,
   "metadata": {},
   "outputs": [],
   "source": [
    "def odo_error_func_wrt_pos_i(Rot_i: sf.Rot3.symbolic(\"Rot_i\"), t_i: sf.V3.symbolic(\"t_i\"),\n",
    "                   Rot_f: sf.Rot3.symbolic(\"Rot_f\"), t_f: sf.V3.symbolic(\"t_f\"),\n",
    "                   Rot_odo: sf.Rot3.symbolic(\"Rot_odo\"), t_odo: sf.V3.symbolic(\"t_odo\"),\n",
    "                   s: sf.Symbol('s'),\n",
    "                   epsilon: sf.Scalar = 0) ->sf.Matrix:\n",
    "    error_wrt_pos_i = error_in_tangent.jacobian(X_i)\n",
    "    return error_wrt_pos_i\n",
    "residual_func_codegen = codegen.Codegen.function(func=odo_error_func_wrt_pos_i, config=codegen.CppConfig(),)\n",
    "residual_func_codegen_data = residual_func_codegen.generate_function(output_dir=out_put_save_directory)"
   ]
  },
  {
   "cell_type": "markdown",
   "metadata": {},
   "source": [
    "### Jacobian of Odometry Error Function with respect to $X_f$"
   ]
  },
  {
   "cell_type": "code",
   "execution_count": null,
   "metadata": {},
   "outputs": [],
   "source": [
    "def odo_error_func_wrt_pos_f(Rot_i: sf.Rot3.symbolic(\"Rot_i\"), t_i: sf.V3.symbolic(\"t_i\"),\n",
    "                   Rot_f: sf.Rot3.symbolic(\"Rot_f\"), t_f: sf.V3.symbolic(\"t_f\"),\n",
    "                   Rot_odo: sf.Rot3.symbolic(\"Rot_odo\"), t_odo: sf.V3.symbolic(\"t_odo\"),\n",
    "                   s: sf.Symbol('s')) ->sf.Matrix:\n",
    "    error_wrt_pos_f = error_in_tangent.jacobian(X_f)\n",
    "    return error_wrt_pos_f\n",
    "residual_func_codegen = codegen.Codegen.function(func=odo_error_func_wrt_pos_f, config=codegen.CppConfig(),)\n",
    "residual_func_codegen_data = residual_func_codegen.generate_function(output_dir=out_put_save_directory)"
   ]
  },
  {
   "cell_type": "markdown",
   "metadata": {},
   "source": [
    "# Kinematic Error Function"
   ]
  },
  {
   "cell_type": "code",
   "execution_count": null,
   "metadata": {},
   "outputs": [],
   "source": [
    "def kin_error_func(r_delta: sf.Symbol('r_delta'), r_TSTA: sf.Symbol('r_TSTA'), r_Break: sf.Symbol('r_Break'),\n",
    "                   theta_delta: sf.Symbol('theta_delta'), theta_TSTA: sf.Symbol('theta_TSTA'), theta_Break: sf.Symbol('theta_Break'),\n",
    "                   a_1: sf.V2.symbolic(\"a_1\"), a_2: sf.V2.symbolic(\"a_2\"), a_3: sf.V2.symbolic(\"a_3\"), a_4: sf.V2.symbolic(\"a_4\"),\n",
    "                   m_0: sf.Symbol('m_0'), n_0: sf.Symbol('n_0'), k_0: sf.Symbol('k_0'), h_0: sf.Symbol('h_0'),\n",
    "                   X_f: sf.Matrix44) ->sf.Matrix:\n",
    "    return error_fk_in_tangent\n",
    "residual_func_codegen = codegen.Codegen.function(func=kin_error_func, config=codegen.CppConfig(),)\n",
    "residual_func_codegen_data = residual_func_codegen.generate_function(output_dir=out_put_save_directory)"
   ]
  },
  {
   "cell_type": "code",
   "execution_count": null,
   "metadata": {},
   "outputs": [],
   "source": [
    "def kin_error_func_wrt_a_1(r_delta: sf.Symbol('r_delta'), r_TSTA: sf.Symbol('r_TSTA'), r_Break: sf.Symbol('r_Break'),\n",
    "                   theta_delta: sf.Symbol('theta_delta'), theta_TSTA: sf.Symbol('theta_TSTA'), theta_Break: sf.Symbol('theta_Break'),\n",
    "                   a_1: sf.V2.symbolic(\"a_1\"), a_2: sf.V2.symbolic(\"a_2\"), a_3: sf.V2.symbolic(\"a_3\"), a_4: sf.V2.symbolic(\"a_4\"),\n",
    "                   m_0: sf.Symbol('m_0'), n_0: sf.Symbol('n_0'), k_0: sf.Symbol('k_0'), h_0: sf.Symbol('h_0'),\n",
    "                   X_0: sf.Matrix44, X_f: sf.Matrix44) ->sf.Matrix:\n",
    "    error = error_fk_in_tangent.jacobian(a_1)\n",
    "    return error\n",
    "residual_func_codegen = codegen.Codegen.function(func=kin_error_func_wrt_a_1, config=codegen.CppConfig(),)\n",
    "residual_func_codegen_data = residual_func_codegen.generate_function(output_dir=out_put_save_directory)"
   ]
  },
  {
   "cell_type": "code",
   "execution_count": null,
   "metadata": {},
   "outputs": [],
   "source": [
    "def kin_error_func_wrt_a_2(r_delta: sf.Symbol('r_delta'), r_TSTA: sf.Symbol('r_TSTA'), r_Break: sf.Symbol('r_Break'),\n",
    "                   theta_delta: sf.Symbol('theta_delta'), theta_TSTA: sf.Symbol('theta_TSTA'), theta_Break: sf.Symbol('theta_Break'),\n",
    "                   a_1: sf.V2.symbolic(\"a_1\"), a_2: sf.V2.symbolic(\"a_2\"), a_3: sf.V2.symbolic(\"a_3\"), a_4: sf.V2.symbolic(\"a_4\"),\n",
    "                   m_0: sf.Symbol('m_0'), n_0: sf.Symbol('n_0'), k_0: sf.Symbol('k_0'), h_0: sf.Symbol('h_0'),\n",
    "                   X_f: sf.Matrix44) ->sf.Matrix:\n",
    "    error = error_fk_in_tangent.jacobian(a_2)\n",
    "    return error\n",
    "residual_func_codegen = codegen.Codegen.function(func=kin_error_func_wrt_a_2, config=codegen.CppConfig(),)\n",
    "residual_func_codegen_data = residual_func_codegen.generate_function(output_dir=out_put_save_directory)"
   ]
  },
  {
   "cell_type": "code",
   "execution_count": null,
   "metadata": {},
   "outputs": [],
   "source": [
    "def kin_error_func_wrt_a_3(r_delta: sf.Symbol('r_delta'), r_TSTA: sf.Symbol('r_TSTA'), r_Break: sf.Symbol('r_Break'),\n",
    "                   theta_delta: sf.Symbol('theta_delta'), theta_TSTA: sf.Symbol('theta_TSTA'), theta_Break: sf.Symbol('theta_Break'),\n",
    "                   a_1: sf.V2.symbolic(\"a_1\"), a_2: sf.V2.symbolic(\"a_2\"), a_3: sf.V2.symbolic(\"a_3\"), a_4: sf.V2.symbolic(\"a_4\"),\n",
    "                   m_0: sf.Symbol('m_0'), n_0: sf.Symbol('n_0'), k_0: sf.Symbol('k_0'), h_0: sf.Symbol('h_0'),\n",
    "                   X_f: sf.Matrix44) ->sf.Matrix:\n",
    "    error = error_fk_in_tangent.jacobian(a_3)\n",
    "    return error\n",
    "residual_func_codegen = codegen.Codegen.function(func=kin_error_func_wrt_a_3, config=codegen.CppConfig(),)\n",
    "residual_func_codegen_data = residual_func_codegen.generate_function(output_dir=out_put_save_directory)"
   ]
  },
  {
   "cell_type": "code",
   "execution_count": null,
   "metadata": {},
   "outputs": [],
   "source": [
    "def kin_error_func_wrt_a_4(r_delta: sf.Symbol('r_delta'), r_TSTA: sf.Symbol('r_TSTA'), r_Break: sf.Symbol('r_Break'),\n",
    "                   theta_delta: sf.Symbol('theta_delta'), theta_TSTA: sf.Symbol('theta_TSTA'), theta_Break: sf.Symbol('theta_Break'),\n",
    "                   a_1: sf.V2.symbolic(\"a_1\"), a_2: sf.V2.symbolic(\"a_2\"), a_3: sf.V2.symbolic(\"a_3\"), a_4: sf.V2.symbolic(\"a_4\"),\n",
    "                   m_0: sf.Symbol('m_0'), n_0: sf.Symbol('n_0'), k_0: sf.Symbol('k_0'), h_0: sf.Symbol('h_0'),\n",
    "                   X_f: sf.Matrix44) ->sf.Matrix:\n",
    "    error = error_fk_in_tangent.jacobian(a_4)\n",
    "    return error\n",
    "residual_func_codegen = codegen.Codegen.function(func=kin_error_func_wrt_a_4, config=codegen.CppConfig(),)\n",
    "residual_func_codegen_data = residual_func_codegen.generate_function(output_dir=out_put_save_directory)"
   ]
  },
  {
   "cell_type": "code",
   "execution_count": null,
   "metadata": {},
   "outputs": [],
   "source": [
    "def kin_error_func_wrt_X_f(r_delta: sf.Symbol('r_delta'), r_TSTA: sf.Symbol('r_TSTA'), r_Break: sf.Symbol('r_Break'),\n",
    "                   theta_delta: sf.Symbol('theta_delta'), theta_TSTA: sf.Symbol('theta_TSTA'), theta_Break: sf.Symbol('theta_Break'),\n",
    "                   a_1: sf.V2.symbolic(\"a_1\"), a_2: sf.V2.symbolic(\"a_2\"), a_3: sf.V2.symbolic(\"a_3\"), a_4: sf.V2.symbolic(\"a_4\"),\n",
    "                   m_0: sf.Symbol('m_0'), n_0: sf.Symbol('n_0'), k_0: sf.Symbol('k_0'), h_0: sf.Symbol('h_0'),\n",
    "                   X_f: sf.Matrix44) ->sf.Matrix:\n",
    "    error = error_fk_in_tangent.jacobian(X_f)\n",
    "    return error\n",
    "residual_func_codegen = codegen.Codegen.function(func=kin_error_func_wrt_X_f, config=codegen.CppConfig(),)\n",
    "residual_func_codegen_data = residual_func_codegen.generate_function(output_dir=out_put_save_directory)"
   ]
  },
  {
   "cell_type": "code",
   "execution_count": null,
   "metadata": {},
   "outputs": [],
   "source": [
    "def kin_error_func_wrt_m_0(r_delta: sf.Symbol('r_delta'), r_TSTA: sf.Symbol('r_TSTA'), r_Break: sf.Symbol('r_Break'),\n",
    "                   theta_delta: sf.Symbol('theta_delta'), theta_TSTA: sf.Symbol('theta_TSTA'), theta_Break: sf.Symbol('theta_Break'),\n",
    "                   a_1: sf.V2.symbolic(\"a_1\"), a_2: sf.V2.symbolic(\"a_2\"), a_3: sf.V2.symbolic(\"a_3\"), a_4: sf.V2.symbolic(\"a_4\"),\n",
    "                   m_0: sf.Symbol('m_0'), n_0: sf.Symbol('n_0'), k_0: sf.Symbol('k_0'), h_0: sf.Symbol('h_0'),\n",
    "                   X_f: sf.Matrix44) ->sf.Matrix:\n",
    "    error = error_fk_in_tangent.diff(m_0)\n",
    "    return error\n",
    "residual_func_codegen = codegen.Codegen.function(func=kin_error_func_wrt_m_0, config=codegen.CppConfig(),)\n",
    "residual_func_codegen_data = residual_func_codegen.generate_function(output_dir=out_put_save_directory)"
   ]
  },
  {
   "cell_type": "code",
   "execution_count": null,
   "metadata": {},
   "outputs": [],
   "source": [
    "def kin_error_func_wrt_n_0(r_delta: sf.Symbol('r_delta'), r_TSTA: sf.Symbol('r_TSTA'), r_Break: sf.Symbol('r_Break'),\n",
    "                   theta_delta: sf.Symbol('theta_delta'), theta_TSTA: sf.Symbol('theta_TSTA'), theta_Break: sf.Symbol('theta_Break'),\n",
    "                   a_1: sf.V2.symbolic(\"a_1\"), a_2: sf.V2.symbolic(\"a_2\"), a_3: sf.V2.symbolic(\"a_3\"), a_4: sf.V2.symbolic(\"a_4\"),\n",
    "                   m_0: sf.Symbol('m_0'), n_0: sf.Symbol('n_0'), k_0: sf.Symbol('k_0'), h_0: sf.Symbol('h_0'),\n",
    "                   X_f: sf.Matrix44) ->sf.Matrix:\n",
    "    error = error_fk_in_tangent.diff(n_0)\n",
    "    return error\n",
    "residual_func_codegen = codegen.Codegen.function(func=kin_error_func_wrt_n_0, config=codegen.CppConfig(),)\n",
    "residual_func_codegen_data = residual_func_codegen.generate_function(output_dir=out_put_save_directory)"
   ]
  },
  {
   "cell_type": "code",
   "execution_count": null,
   "metadata": {},
   "outputs": [],
   "source": [
    "def kin_error_func_wrt_k_0(r_delta: sf.Symbol('r_delta'), r_TSTA: sf.Symbol('r_TSTA'), r_Break: sf.Symbol('r_Break'),\n",
    "                   theta_delta: sf.Symbol('theta_delta'), theta_TSTA: sf.Symbol('theta_TSTA'), theta_Break: sf.Symbol('theta_Break'),\n",
    "                   a_1: sf.V2.symbolic(\"a_1\"), a_2: sf.V2.symbolic(\"a_2\"), a_3: sf.V2.symbolic(\"a_3\"), a_4: sf.V2.symbolic(\"a_4\"),\n",
    "                   m_0: sf.Symbol('m_0'), n_0: sf.Symbol('n_0'), k_0: sf.Symbol('k_0'), h_0: sf.Symbol('h_0'),\n",
    "                   X_f: sf.Matrix44) ->sf.Matrix:\n",
    "    error = error_fk_in_tangent.diff(k_0)\n",
    "    return error\n",
    "residual_func_codegen = codegen.Codegen.function(func=kin_error_func_wrt_k_0, config=codegen.CppConfig(),)\n",
    "residual_func_codegen_data = residual_func_codegen.generate_function(output_dir=out_put_save_directory)"
   ]
  },
  {
   "cell_type": "code",
   "execution_count": null,
   "metadata": {},
   "outputs": [],
   "source": [
    "def kin_error_func_wrt_h_0(r_delta: sf.Symbol('r_delta'), r_TSTA: sf.Symbol('r_TSTA'), r_Break: sf.Symbol('r_Break'),\n",
    "                   theta_delta: sf.Symbol('theta_delta'), theta_TSTA: sf.Symbol('theta_TSTA'), theta_Break: sf.Symbol('theta_Break'),\n",
    "                   a_1: sf.V2.symbolic(\"a_1\"), a_2: sf.V2.symbolic(\"a_2\"), a_3: sf.V2.symbolic(\"a_3\"), a_4: sf.V2.symbolic(\"a_4\"),\n",
    "                   m_0: sf.Symbol('m_0'), n_0: sf.Symbol('n_0'), k_0: sf.Symbol('k_0'), h_0: sf.Symbol('h_0'),\n",
    "                   X_f: sf.Matrix44) ->sf.Matrix:\n",
    "    error = error_fk_in_tangent.diff(h_0)\n",
    "    return error\n",
    "residual_func_codegen = codegen.Codegen.function(func=kin_error_func_wrt_h_0, config=codegen.CppConfig(),)\n",
    "residual_func_codegen_data = residual_func_codegen.generate_function(output_dir=out_put_save_directory)"
   ]
  }
 ],
 "metadata": {
  "kernelspec": {
   "display_name": "Python 3",
   "language": "python",
   "name": "python3"
  },
  "language_info": {
   "codemirror_mode": {
    "name": "ipython",
    "version": 3
   },
   "file_extension": ".py",
   "mimetype": "text/x-python",
   "name": "python",
   "nbconvert_exporter": "python",
   "pygments_lexer": "ipython3",
   "version": "3.8.10"
  }
 },
 "nbformat": 4,
 "nbformat_minor": 2
}
