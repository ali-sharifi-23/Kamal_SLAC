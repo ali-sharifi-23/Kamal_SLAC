{
 "cells": [
  {
   "cell_type": "code",
   "execution_count": 6,
   "metadata": {},
   "outputs": [],
   "source": [
    "import os\n",
    "import subprocess\n",
    "import numpy as np\n",
    "import pandas as pd\n",
    "import random\n",
    "import mplcursors\n",
    "import matplotlib.pyplot as plt\n",
    "from mpl_toolkits import mplot3d\n",
    "from matplotlib import font_manager"
   ]
  },
  {
   "cell_type": "code",
   "execution_count": 7,
   "metadata": {},
   "outputs": [],
   "source": [
    "def run_cpp_program(noise, nPose):\n",
    "    result = subprocess.run(['../build/MyGTSAM', f'{noise}', f'{nPose}'], \n",
    "                            capture_output=True, text=True)\n",
    "\n",
    "    if result.returncode != 0:\n",
    "        print(f\"Error running C++ program: {result.stderr}\")\n",
    "        return np.inf\n",
    "\n",
    "    return result.stdout.strip().split('\\n')"
   ]
  },
  {
   "cell_type": "code",
   "execution_count": 8,
   "metadata": {},
   "outputs": [],
   "source": [
    "path = \"/home/ali/Github/Kamal_Dataset/seq8\"\n",
    "\n",
    "content = pd.read_csv(os.path.join(path, \"stereo/static_poses.csv\"), header=None)\n",
    "Data = content.values\n",
    "x_GT = Data[:,0]\n",
    "y_GT = Data[:,1]\n",
    "z_GT = Data[:,2]\n",
    "nPose = len(x_GT)\n",
    "\n",
    "content = pd.read_csv(os.path.join(path, \"encoder/encoder.csv\"), header=None)\n",
    "Data = content.values\n",
    "delta = Data[:,0]\n",
    "tsta = Data[:,1]\n",
    "brk = Data[:,2]"
   ]
  },
  {
   "cell_type": "markdown",
   "metadata": {},
   "source": [
    "# IK with Optimized Anchor Point Locations"
   ]
  },
  {
   "cell_type": "code",
   "execution_count": 9,
   "metadata": {},
   "outputs": [],
   "source": [
    "r_Delta = 0.025\n",
    "r_TSTA = 0.035\n",
    "r_Break = 0.035\n",
    "l_enc = np.column_stack((r_Delta*delta, r_TSTA*tsta, r_Break*brk))\n",
    "\n",
    "rmse = []\n",
    "mean_rmse = []\n",
    "num = [n for n in range(5,nPose+1)]\n",
    "for i in num:\n",
    "    result = np.array(list(map(float, run_cpp_program(0.1, i))))\n",
    "    result_pd = pd.DataFrame((result[:15]).reshape(1,-1))\n",
    "    result_pd.columns = ['s', 'm0', 'n0', 'k0', 'h0', 'A1_x', 'A1_y', 'A2_x', 'A2_y', 'A3_x', 'A3_y', 'A4_x', 'A4_y', 'X0_x', 'X0_y']\n",
    "\n",
    "    x_GT += result_pd['X0_x'].values - x_GT[0]\n",
    "    y_GT += result_pd['X0_y'].values - y_GT[0]\n",
    "\n",
    "    A1 = [result_pd['A1_x'].values, result_pd['A1_y'].values]\n",
    "    A2 = [result_pd['A2_x'].values, result_pd['A2_y'].values]\n",
    "    A3 = [result_pd['A3_x'].values, result_pd['A3_y'].values]\n",
    "    A4 = [result_pd['A4_x'].values, result_pd['A4_y'].values]\n",
    "\n",
    "    l_0 = np.column_stack((result_pd['m0'] + result_pd['n0'], result_pd['m0'] + 2*result_pd['k0'], result_pd['n0'] + 2*result_pd['h0']))\n",
    "    m = np.sqrt((x_GT[:i+1] - A1[0])**2 + (y_GT[:i+1] - A1[1])**2)\n",
    "    n = np.sqrt((x_GT[:i+1] - A2[0])**2 + (y_GT[:i+1] - A2[1])**2)\n",
    "    k = np.sqrt((x_GT[:i+1] - A3[0])**2 + (y_GT[:i+1] - A3[1])**2)\n",
    "    h = np.sqrt((x_GT[:i+1] - A4[0])**2 + (y_GT[:i+1] - A4[1])**2)\n",
    "    l = np.column_stack((m + n, m + 2*k, n + 2*h))\n",
    "    delta_l = l - l[0]\n",
    "\n",
    "    error = delta_l - l_enc[:i+1]\n",
    "    error_rmse = np.sqrt(np.mean(error**2, axis=0))\n",
    "    rmse.append(error_rmse)\n",
    "    mean_rmse.append(np.mean(error_rmse))\n",
    "rmse = np.array(rmse)"
   ]
  },
  {
   "cell_type": "code",
   "execution_count": 10,
   "metadata": {},
   "outputs": [],
   "source": [
    "plt.close('all')\n",
    "plt.figure()\n",
    "%matplotlib qt\n",
    "\n",
    "plt.plot(num, rmse[:, 0], label='Cable 1 Error', color=\"tab:red\",linestyle='--', marker='o', markersize=10)\n",
    "plt.plot(num, rmse[:, 1], label='Cable 2 Error', color=\"tab:green\",linestyle='--', marker='^', markersize=10)\n",
    "plt.plot(num, rmse[:, 2], label='Cable 3 Error', color=\"tab:blue\",linestyle='--', marker='s', markersize=10)\n",
    "plt.plot(num, mean_rmse, label=\"Average Error\", color=\"black\", linestyle='--', marker='*', markersize=12)\n",
    "mplcursors.cursor(multiple=True)\n",
    "csfont = {'fontname':'Times New Roman', 'fontsize': 22}\n",
    "plt.xlabel(\"Number of Position Sample\", **csfont)\n",
    "plt.ylabel(\"Error (m)\", **csfont)\n",
    "font = font_manager.FontProperties(family='Times New Roman',\n",
    "                                   style='normal', size=18)\n",
    "plt.legend(prop=font)\n",
    "plt.grid(which='major', linestyle=':', linewidth='0.8', color='gray')\n",
    "\n",
    "plt.tick_params(axis='both', which='major', labelsize=18, labelfontfamily='Times New Roman')"
   ]
  }
 ],
 "metadata": {
  "kernelspec": {
   "display_name": "base",
   "language": "python",
   "name": "python3"
  },
  "language_info": {
   "codemirror_mode": {
    "name": "ipython",
    "version": 3
   },
   "file_extension": ".py",
   "mimetype": "text/x-python",
   "name": "python",
   "nbconvert_exporter": "python",
   "pygments_lexer": "ipython3",
   "version": "3.12.2"
  }
 },
 "nbformat": 4,
 "nbformat_minor": 2
}
