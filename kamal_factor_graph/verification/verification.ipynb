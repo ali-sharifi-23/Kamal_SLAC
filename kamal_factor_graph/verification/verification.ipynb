{
 "cells": [
  {
   "cell_type": "code",
   "execution_count": 1,
   "metadata": {},
   "outputs": [],
   "source": [
    "import os\n",
    "import subprocess\n",
    "import numpy as np\n",
    "import pandas as pd\n",
    "import random\n",
    "import mplcursors\n",
    "import matplotlib.pyplot as plt\n",
    "from mpl_toolkits import mplot3d\n",
    "from matplotlib import font_manager"
   ]
  },
  {
   "cell_type": "code",
   "execution_count": 2,
   "metadata": {},
   "outputs": [],
   "source": [
    "def run_cpp_program(noise, nPose):\n",
    "    result = subprocess.run(['../build/MyGTSAM', f'{noise}', f'{nPose}'], \n",
    "                            capture_output=True, text=True)\n",
    "\n",
    "    if result.returncode != 0:\n",
    "        print(f\"Error running C++ program: {result.stderr}\")\n",
    "        return np.inf\n",
    "\n",
    "    # print(f\"C++ program output:\\n{result.stdout}\")\n",
    "\n",
    "    return result.stdout.strip().split('\\n')"
   ]
  },
  {
   "cell_type": "code",
   "execution_count": 3,
   "metadata": {},
   "outputs": [],
   "source": [
    "content = pd.read_csv('pose_GT_8.csv', header=None)\n",
    "pose_GT = content.values\n",
    "pose_GT = np.delete(pose_GT, 2, axis=1)\n",
    "\n",
    "content = pd.read_csv(\"/home/ali/Github/Kamal_Dataset/seq8/encoder/encoder.csv\", header=None)\n",
    "Data = content.values\n",
    "delta = Data[:,0]\n",
    "tsta = Data[:,1]\n",
    "brk = Data[:,2]\n",
    "\n",
    "content = pd.read_csv('initial_estimates_8.csv', header=None)\n",
    "initialEst = content.values\n",
    "\n",
    "nPose = len(initialEst)-8\n",
    "\n",
    "cable_GT = initialEst[nPose:nPose+4,0].copy()\n",
    "anchor_GT = initialEst[nPose+4:,:].copy()"
   ]
  },
  {
   "cell_type": "markdown",
   "metadata": {},
   "source": [
    "# Perturbation Results\n",
    "## Sequence 8:\n",
    "    Anchor Points: 0.2\n",
    "    Cable Length Offsets: 0.1"
   ]
  },
  {
   "cell_type": "code",
   "execution_count": 4,
   "metadata": {},
   "outputs": [],
   "source": [
    "result = []\n",
    "pose = []\n",
    "anchor_STD = 0.3\n",
    "cable_STD = 0.0\n",
    "cable_prior_sigma = 0.1\n",
    "file_path = 'perturb.csv'\n",
    "file_exists = os.path.isfile(file_path)\n",
    "for i in range(250):\n",
    "    initialEst[nPose,:] = np.random.normal(cable_GT[0], cable_STD/(2*np.sqrt(2)), size=2)  # m0\n",
    "    initialEst[nPose+1,:] = np.random.normal(cable_GT[1], cable_STD/(2*np.sqrt(2)), size=2)  # n0\n",
    "    initialEst[nPose+2,:] = np.random.normal(cable_GT[2], cable_STD/(2*np.sqrt(2)), size=2)  # k0\n",
    "    initialEst[nPose+3,:] = np.random.normal(cable_GT[3], cable_STD/(2*np.sqrt(2)), size=2)  # h0\n",
    "\n",
    "    initialEst[nPose+4,:] = np.random.normal(anchor_GT[0], anchor_STD/(2*np.sqrt(2)), size=2)    # Anchor 1\n",
    "    initialEst[nPose+5,:] = np.random.normal(anchor_GT[1], anchor_STD/(2*np.sqrt(2)), size=2)    # Anchor 2\n",
    "    initialEst[nPose+6,:] = np.random.normal(anchor_GT[2], anchor_STD/(2*np.sqrt(2)), size=2)    # Anchor 3\n",
    "    initialEst[nPose+7,:] = np.random.normal(anchor_GT[3], anchor_STD/(2*np.sqrt(2)), size=2)    # Anchor 4\n",
    "    \n",
    "    initialEst_pd = pd.DataFrame(initialEst)\n",
    "    initialEst_pd.to_csv('../dataset/estimates_8.csv', header=False, index=False)\n",
    "    Opt = list(map(float, run_cpp_program(cable_prior_sigma, 31)))\n",
    "    values = np.concatenate((np.array((initialEst[nPose-1,0], initialEst[nPose,0], initialEst[nPose+1,0], initialEst[nPose+2,0], initialEst[nPose+3,0])),\n",
    "                             initialEst[nPose+4], initialEst[nPose+5], initialEst[nPose+6], initialEst[nPose+7], Opt[:15]))\n",
    "    result.append(values)\n",
    "    pose.append(Opt[13:])\n",
    "\n",
    "result = np.array(result)\n",
    "pose = np.array(pose)\n",
    "result_pd = pd.DataFrame(result)\n",
    "result_pd.columns = ['s0', 'm00', 'n00', 'k00', 'h00', 'A10_x', 'A10_y', 'A20_x', 'A20_y', 'A30_x', 'A30_y', 'A40_x', 'A40_y',\n",
    "                     's', 'm0', 'n0', 'k0', 'h0', 'A1_x', 'A1_y', 'A2_x', 'A2_y', 'A3_x', 'A3_y', 'A4_x', 'A4_y', 'X0_x', 'X0_y']\n",
    "# result_pd.to_csv(file_path, mode='a', index=False, header=not file_exists)"
   ]
  },
  {
   "cell_type": "code",
   "execution_count": 5,
   "metadata": {},
   "outputs": [
    {
     "name": "stdout",
     "output_type": "stream",
     "text": [
      "RMSE m0: 0.038283852025050955\n",
      "RMSE n0: 0.03430116802011268\n",
      "RMSE k0: 0.025349999999999984\n",
      "RMSE h0: 0.017388560354439937\n",
      "\n",
      "RMSE A1: 0.04481109361723641\n",
      "RMSE A2: 0.04114314083295043\n",
      "RMSE A3: 0.05687185444821575\n",
      "RMSE A4: 0.02749267940780425\n",
      "RMSE X0: 0.00908614686762216\n",
      "\n",
      "RMSE Pose: 0.0029794588157806157\n"
     ]
    }
   ],
   "source": [
    "rmse_m0 = np.sqrt(np.mean((result_pd['m0'] - cable_GT[0]) ** 2))\n",
    "rmse_n0 = np.sqrt(np.mean((result_pd['n0'] - cable_GT[1]) ** 2))\n",
    "rmse_k0 = np.sqrt(np.mean((result_pd['k0'] - cable_GT[2]) ** 2))\n",
    "rmse_h0 = np.sqrt(np.mean((result_pd['h0'] - cable_GT[3]) ** 2))\n",
    "\n",
    "rmse_a1 = np.sqrt(np.mean((result_pd['A1_x'] - anchor_GT[0,0])**2 + (result_pd['A1_y'] - anchor_GT[0,1])**2))\n",
    "rmse_a2 = np.sqrt(np.mean((result_pd['A2_x'] - anchor_GT[1,0])**2 + (result_pd['A2_y'] - anchor_GT[1,1])**2))\n",
    "rmse_a3 = np.sqrt(np.mean((result_pd['A3_x'] - anchor_GT[2,0])**2 + (result_pd['A3_y'] - anchor_GT[2,1])**2))\n",
    "rmse_a4 = np.sqrt(np.mean((result_pd['A4_x'] - anchor_GT[3,0])**2 + (result_pd['A4_y'] - anchor_GT[3,1])**2))\n",
    "rmse_x0 = np.sqrt(np.mean((result_pd['X0_x'] - 0.605)**2 + (result_pd['X0_y'] - 1.9+0.805)**2))\n",
    "\n",
    "rmse_pose = []\n",
    "for i in range(len(pose)):\n",
    "    p = (pose[i]).reshape(-1,2)\n",
    "    pose_GT += p[0] - pose_GT[0]\n",
    "    rmse_pose.append(np.sqrt(np.mean((pose_GT[:len(p),0] - p[:,0])**2 + (pose_GT[:len(p),1] - p[:,1])**2)))\n",
    "\n",
    "rmse_pose = np.mean(rmse_pose)\n",
    "\n",
    "print(\"RMSE m0:\",rmse_m0)\n",
    "print(\"RMSE n0:\",rmse_n0)\n",
    "print(\"RMSE k0:\",rmse_k0)\n",
    "print(\"RMSE h0:\",rmse_h0)\n",
    "\n",
    "print(\"\\nRMSE A1:\",rmse_a1)\n",
    "print(\"RMSE A2:\",rmse_a2)\n",
    "print(\"RMSE A3:\",rmse_a3)\n",
    "print(\"RMSE A4:\",rmse_a4)\n",
    "print(\"RMSE X0:\",rmse_x0)\n",
    "\n",
    "print(\"\\nRMSE Pose:\", rmse_pose)"
   ]
  },
  {
   "cell_type": "code",
   "execution_count": 6,
   "metadata": {},
   "outputs": [
    {
     "name": "stdout",
     "output_type": "stream",
     "text": [
      "1.8590440742502028\n",
      "1.151206634486543\n",
      "1.8529507023246585\n",
      "1.1556900396290957\n"
     ]
    }
   ],
   "source": [
    "s1 = np.mean(np.sqrt((result_pd['A1_x'] - result_pd['A3_x'])**2 + (result_pd['A1_y'] - result_pd['A3_y'])**2))\n",
    "s2 = np.mean(np.sqrt((result_pd['A1_x'] - result_pd['A2_x'])**2 + (result_pd['A1_y'] - result_pd['A2_y'])**2))\n",
    "s3 = np.mean(np.sqrt((result_pd['A2_x'] - result_pd['A4_x'])**2 + (result_pd['A2_y'] - result_pd['A4_y'])**2))\n",
    "s4 = np.mean(np.sqrt((result_pd['A3_x'] - result_pd['A4_x'])**2 + (result_pd['A3_y'] - result_pd['A4_y'])**2))\n",
    "\n",
    "print(s1)\n",
    "print(s2)\n",
    "print(s3)\n",
    "print(s4)"
   ]
  },
  {
   "cell_type": "code",
   "execution_count": 7,
   "metadata": {},
   "outputs": [
    {
     "name": "stdout",
     "output_type": "stream",
     "text": [
      "0.0037786621630821146\n"
     ]
    }
   ],
   "source": [
    "a = 1.20\n",
    "b = 1.90\n",
    "\n",
    "r_Delta = 0.025\n",
    "r_TSTA = 0.035\n",
    "r_Break = 0.035\n",
    "X0 = [0.605, b - 0.805]\n",
    "\n",
    "A1 = [0, b]\n",
    "A2 = [a, b]\n",
    "A3 = [0, 0]\n",
    "A4 = [a, 0]\n",
    "\n",
    "m0 = np.sqrt((X0[0] - A1[0])**2 + (X0[1] - A1[1])**2)\n",
    "n0 = np.sqrt((X0[0] - A2[0])**2 + (X0[1] - A2[1])**2)\n",
    "k0 = np.sqrt((X0[0] - A3[0])**2 + (X0[1] - A3[1])**2)\n",
    "h0 = np.sqrt((X0[0] - A4[0])**2 + (X0[1] - A4[1])**2)\n",
    "\n",
    "l0_Delta = m0 + n0\n",
    "l0_TSTA = m0 + 2*k0\n",
    "l0_Break = n0 + 2*h0\n",
    "\n",
    "l_Delta = r_Delta*delta + l0_Delta\n",
    "l_TSTA = r_TSTA*tsta + l0_TSTA\n",
    "l_Break = r_Break*brk + l0_Break\n",
    "\n",
    "den = 2*l_Delta + 0.5*(l_TSTA + l_Break - l_Delta)\n",
    "num = l_Delta**2 - 0.25*(l_Break**2 + l_Delta**2 - 2*l_Delta*l_Break - l_TSTA**2)\n",
    "m = num/den\n",
    "n = l_Delta - m\n",
    "k = 0.5*(l_TSTA - m)\n",
    "h = 0.5*(l_Break - n)\n",
    "\n",
    "l = [m, n, k, h]\n",
    "\n",
    "x_kin = (m**2 - n**2 + a**2)/(2*a)\n",
    "y_kin = b - np.sqrt(m**2 - x_kin**2)\n",
    "\n",
    "pose_GT[:,0] += x_kin[0] - pose_GT[0,0]\n",
    "pose_GT[:,1] += y_kin[0] - pose_GT[0,1]\n",
    "rmse_pose_nom = []\n",
    "for i in range(len(pose)):\n",
    "    rmse_pose_nom.append(np.sqrt(np.mean((pose_GT[:,0] - x_kin)**2 + (pose_GT[:,1] - y_kin)**2)))\n",
    "\n",
    "rmse_pose_nom = np.mean(rmse_pose_nom)\n",
    "print(rmse_pose_nom)"
   ]
  },
  {
   "cell_type": "code",
   "execution_count": 8,
   "metadata": {},
   "outputs": [],
   "source": [
    "# print((rmse_pose_nom - rmse_pose)/rmse_pose_nom*100)"
   ]
  },
  {
   "cell_type": "code",
   "execution_count": 24,
   "metadata": {},
   "outputs": [
    {
     "data": {
      "text/plain": [
       "<mplcursors._mplcursors.Cursor at 0x7fe327416810>"
      ]
     },
     "execution_count": 24,
     "metadata": {},
     "output_type": "execute_result"
    }
   ],
   "source": [
    "plt.figure()\n",
    "%matplotlib qt\n",
    "\n",
    "plt.scatter(result_pd['A10_x'], result_pd['A10_y'], color=\"tab:cyan\", label=\"Anchor 1 Initial Values\")\n",
    "plt.scatter(result_pd['A20_x'], result_pd['A20_y'], color=\"tab:pink\", label=\"Anchor 2 Initial Values\")\n",
    "plt.scatter(result_pd['A30_x'], result_pd['A30_y'], color=\"gold\", label=\"Anchor 3 Initial Values\")\n",
    "plt.scatter(result_pd['A40_x'], result_pd['A40_y'], color=\"limegreen\", label=\"Anchor 4 Initial Values\")\n",
    "\n",
    "mean = np.mean(np.column_stack((result_pd['A1_x'], result_pd['A1_y'])), axis=0)\n",
    "plt.scatter(result_pd['A1_x'], result_pd['A1_y'], label=f'Anchor 1 Optimization Result', color=\"tab:blue\")\n",
    "# plt.scatter(result_pd['A1_x'], result_pd['A1_y'], label=f'Anchor 1 Optimization Result: ({mean[0]:.3f}, {mean[1]:.3f})', color=\"tab:blue\")\n",
    "\n",
    "mean = np.mean(np.column_stack((result_pd['A2_x'], result_pd['A2_y'])), axis=0)\n",
    "plt.scatter(result_pd['A2_x'], result_pd['A2_y'], label=f'Anchor 2 Optimization Result', color=\"purple\")\n",
    "# plt.scatter(result_pd['A2_x'], result_pd['A2_y'], label=f'Anchor 2 Optimization Result: ({mean[0]:.3f}, {mean[1]:.3f})', color=\"tab:purple\")\n",
    "\n",
    "mean = np.mean(np.column_stack((result_pd['A3_x'], result_pd['A3_y'])), axis=0)\n",
    "plt.scatter(result_pd['A3_x'], result_pd['A3_y'], label=f'Anchor 3 Optimization Result', color=\"tab:orange\")\n",
    "# plt.scatter(result_pd['A3_x'], result_pd['A3_y'], label=f'Anchor 3 Optimization Result: ({mean[0]:.3f}, {mean[1]:.3f})', color=\"tab:orange\")\n",
    "\n",
    "mean = np.mean(np.column_stack((result_pd['A4_x'], result_pd['A4_y'])), axis=0)\n",
    "plt.scatter(result_pd['A4_x'], result_pd['A4_y'], label=f'Anchor 4 Optimization Result', color=\"green\")\n",
    "# plt.scatter(result_pd['A4_x'], result_pd['A4_y'], label=f'Anchor 4 Optimization Result: ({mean[0]:.3f}, {mean[1]:.3f})', color=\"green\")\n",
    "\n",
    "# mean = np.mean(np.column_stack((result_pd['X0_x'], result_pd['X0_y'])), axis=0)\n",
    "# plt.scatter(result_pd['X0_x'], result_pd['X0_y'], label=f'X0 Optimization Result: ({mean[0]:.3f}, {mean[1]:.3f})', color=\"tab:red\")\n",
    "\n",
    "plt.axis('equal')\n",
    "csfont = {'fontname':'Times New Roman', 'fontsize': 22}\n",
    "font = font_manager.FontProperties(family='Times New Roman',\n",
    "                                   style='normal', size=18)\n",
    "# plt.legend(prop=font)\n",
    "plt.xlabel(\"x (m)\", **csfont)\n",
    "plt.ylabel(\"y (m)\", **csfont)\n",
    "\n",
    "plt.tick_params(axis='both', which='major', labelsize=18, labelfontfamily='Times New Roman')\n",
    "mplcursors.cursor(multiple=True)\n",
    "\n",
    "# plt.subplots()\n",
    "\n",
    "# plt.subplot(4,1,1)\n",
    "# plt.hist(result_pd['m0'], bins=100, edgecolor='black')\n",
    "# mean = np.mean(result_pd['m0'])\n",
    "# std_dev = np.std(result_pd['m0'])\n",
    "# plt.legend([f'Without Perturbation: {cable_GT[0]}\\nMean: {mean:.3f}\\nRMSE: {rmse_m0:.3f}'])\n",
    "# plt.ylabel('$m_0$')\n",
    "\n",
    "# plt.subplot(4,1,2)\n",
    "# plt.hist(result_pd['n0'], bins=100, edgecolor='black')\n",
    "# mean = np.mean(result_pd['n0'])\n",
    "# std_dev = np.std(result_pd['n0'])\n",
    "# plt.legend([f'Without Perturbation: {cable_GT[1]}\\nMean: {mean:.3f}\\nRMSE: {rmse_n0:.3f}'])\n",
    "# plt.ylabel('$n_0$')\n",
    "\n",
    "# plt.subplot(4,1,3)\n",
    "# plt.hist(result_pd['k0'], bins=100, edgecolor='black')\n",
    "# mean = np.mean(result_pd['k0'])\n",
    "# std_dev = np.std(result_pd['k0'])\n",
    "# plt.legend([f'Without Perturbation: {cable_GT[2]}\\nMean: {mean:.3f}\\nRMSE: {rmse_k0:.3f}'])\n",
    "# plt.ylabel('$k_0$')\n",
    "\n",
    "# plt.subplot(4,1,4)\n",
    "# plt.hist(result_pd['h0'], bins=100, edgecolor='black')\n",
    "# mean = np.mean(result_pd['h0'])\n",
    "# std_dev = np.std(result_pd['h0'])\n",
    "# plt.legend([f'Without Perturbation: {cable_GT[3]}\\nMean: {mean:.3f}\\nRMSE: {rmse_h0:.3f}'])\n",
    "# plt.ylabel('$h_0$')\n",
    "# plt.xlabel('Length (m)')\n",
    "# plt.suptitle(f'$Perturbation={cable_STD}$')\n",
    "\n",
    "# mplcursors.cursor(multiple=True)"
   ]
  }
 ],
 "metadata": {
  "kernelspec": {
   "display_name": "Python 3",
   "language": "python",
   "name": "python3"
  },
  "language_info": {
   "codemirror_mode": {
    "name": "ipython",
    "version": 3
   },
   "file_extension": ".py",
   "mimetype": "text/x-python",
   "name": "python",
   "nbconvert_exporter": "python",
   "pygments_lexer": "ipython3",
   "version": "3.12.2"
  }
 },
 "nbformat": 4,
 "nbformat_minor": 2
}
