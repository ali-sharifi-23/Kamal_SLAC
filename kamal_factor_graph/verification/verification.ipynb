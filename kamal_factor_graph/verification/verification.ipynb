{
 "cells": [
  {
   "cell_type": "code",
   "execution_count": 103,
   "metadata": {},
   "outputs": [],
   "source": [
    "import numpy as np\n",
    "import pandas as pd\n",
    "import mplcursors\n",
    "import matplotlib.pyplot as plt\n",
    "from mpl_toolkits import mplot3d"
   ]
  },
  {
   "cell_type": "code",
   "execution_count": 104,
   "metadata": {},
   "outputs": [],
   "source": [
    "content = pd.read_csv('../result/FG_anchor_6.csv', header=None)\n",
    "Opt_anchor = content.values\n",
    "Opt_anchor -= Opt_anchor[2]\n",
    "Opt_anchor = Opt_anchor[:,:-1]\n",
    "Opt_anchor[1] = [100, 100]\n",
    "\n",
    "content = pd.read_csv('GT_pose_6.csv', header=None)\n",
    "GT_pose = content.values\n",
    "GT_pose = GT_pose[:,:-1]\n",
    "GT_pose += Opt_anchor[-1] - GT_pose[0]\n",
    "\n",
    "content = pd.read_csv('Anchor_GT.csv', header=None)\n",
    "GT_anchor = content.values\n",
    "\n",
    "content = pd.read_csv('encoder_6.csv', header=None)\n",
    "encoder = content.values"
   ]
  },
  {
   "cell_type": "code",
   "execution_count": 105,
   "metadata": {},
   "outputs": [
    {
     "name": "stdout",
     "output_type": "stream",
     "text": [
      "[[ 0.          0.          0.        ]\n",
      " [ 0.01431596 -0.00621083  0.00329875]\n",
      " [ 0.00054427 -0.00091358  0.00332823]\n",
      " [-0.05423522  0.00466652 -0.04226433]\n",
      " [ 0.00910443  0.0014658   0.00864187]\n",
      " [ 0.01535713 -0.0107861  -0.00083543]\n",
      " [-0.00081463 -0.00040913 -0.00379774]\n",
      " [-0.03764579 -0.00300612 -0.03162045]\n",
      " [-0.06945803  0.00380039 -0.05299781]\n",
      " [ 0.01131156  0.00056082  0.00546234]\n",
      " [ 0.0182993  -0.00499724  0.00165093]\n",
      " [-0.06587338  0.00650029 -0.05143537]\n",
      " [ 0.01689984 -0.00682888  0.00258351]\n",
      " [ 0.00972281 -0.00070122  0.00256423]\n",
      " [-0.02658126  0.00098125 -0.02416604]\n",
      " [-0.04551331  0.00368713 -0.03804023]\n",
      " [-0.07286751  0.00495659 -0.05665938]\n",
      " [-0.0253786   0.00456909 -0.02015741]\n",
      " [ 0.00718307 -0.00077807  0.00402958]\n",
      " [-0.03115549  0.00283846 -0.027428  ]\n",
      " [-0.11044595  0.00274957 -0.07979042]\n",
      " [-0.00474184  0.0014922  -0.00532368]\n",
      " [ 0.00991014 -0.00394226  0.00213665]\n",
      " [ 0.00922653  0.00044875  0.00980675]\n",
      " [ 0.00858448  0.00122017  0.00719026]\n",
      " [ 0.00843382 -0.00226741  0.00259799]\n",
      " [ 0.01314908 -0.00063885  0.01016464]\n",
      " [-0.04778399  0.00322297 -0.0371032 ]\n",
      " [ 0.01221676 -0.00188989  0.01042157]]\n"
     ]
    }
   ],
   "source": [
    "l = []\n",
    "for pose in GT_pose:\n",
    "    m = np.linalg.norm(pose - Opt_anchor[0])\n",
    "    n = np.linalg.norm(pose - Opt_anchor[1])\n",
    "    k = np.linalg.norm(pose - Opt_anchor[2])\n",
    "    h = np.linalg.norm(pose - Opt_anchor[3])\n",
    "    l.append([m+n, m+2*k, n+2*h])\n",
    "    \n",
    "l = np.array(l) - np.array(l[0])\n",
    "\n",
    "r = [0.025, 0.035, 0.035]\n",
    "l_enc = []\n",
    "for enc in encoder:\n",
    "    l_enc.append(r*enc)\n",
    "\n",
    "error = l - l_enc\n",
    "print(error)"
   ]
  },
  {
   "cell_type": "code",
   "execution_count": 106,
   "metadata": {},
   "outputs": [
    {
     "name": "stdout",
     "output_type": "stream",
     "text": [
      "Warning: Cannot change to a different GUI toolkit: qt. Using tk instead.\n"
     ]
    },
    {
     "name": "stderr",
     "output_type": "stream",
     "text": [
      "can't invoke \"event\" command: application has been destroyed\n",
      "    while executing\n",
      "\"event generate $w <<ThemeChanged>>\"\n",
      "    (procedure \"ttk::ThemeChanged\" line 6)\n",
      "    invoked from within\n",
      "\"ttk::ThemeChanged\"\n"
     ]
    }
   ],
   "source": [
    "fig = plt.figure()\n",
    "\n",
    "%matplotlib qt\n",
    "\n",
    "plt.plot(GT_pose[:,0], GT_pose[:,1], label=\"Ground Truth Poses\", linestyle='--', marker='o')\n",
    "plt.scatter(GT_anchor[:-1,0], GT_anchor[:-1,1], label=\"Motion Capture\")\n",
    "plt.scatter(Opt_anchor[:,0], Opt_anchor[:,1], label=\"Optimization\")\n",
    "for i, (x, y) in enumerate(GT_anchor[:-1,:]):\n",
    "    plt.text(x + 0.01, y + 0.01, f'$A_{i+1}$', color='blue', fontsize=12)\n",
    "\n",
    "mplcursors.cursor(multiple=True)\n",
    "plt.legend()\n",
    "plt.show()"
   ]
  }
 ],
 "metadata": {
  "kernelspec": {
   "display_name": "Python 3",
   "language": "python",
   "name": "python3"
  },
  "language_info": {
   "codemirror_mode": {
    "name": "ipython",
    "version": 3
   },
   "file_extension": ".py",
   "mimetype": "text/x-python",
   "name": "python",
   "nbconvert_exporter": "python",
   "pygments_lexer": "ipython3",
   "version": "3.8.10"
  }
 },
 "nbformat": 4,
 "nbformat_minor": 2
}
