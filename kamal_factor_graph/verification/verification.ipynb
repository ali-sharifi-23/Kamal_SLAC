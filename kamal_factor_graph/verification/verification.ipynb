{
 "cells": [
  {
   "cell_type": "code",
   "execution_count": 157,
   "metadata": {},
   "outputs": [],
   "source": [
    "import os\n",
    "import subprocess\n",
    "import numpy as np\n",
    "import pandas as pd\n",
    "import random\n",
    "import mplcursors\n",
    "import matplotlib.pyplot as plt\n",
    "from mpl_toolkits import mplot3d"
   ]
  },
  {
   "cell_type": "code",
   "execution_count": 158,
   "metadata": {},
   "outputs": [],
   "source": [
    "def prt_point(p, r):\n",
    "    angle = np.random.uniform(0, 2 * np.pi)\n",
    "    radius = np.sqrt(np.random.uniform(0, 1)) * r\n",
    "    dx = radius * np.cos(angle)\n",
    "    dy = radius * np.sin(angle)\n",
    "    point = (p[0]+dx, p[1]+dy)\n",
    "    return point\n",
    "\n",
    "def run_cpp_program():\n",
    "    result = subprocess.run(['../build/MyGTSAM'], \n",
    "                            capture_output=True, text=True)\n",
    "\n",
    "    if result.returncode != 0:\n",
    "        print(f\"Error running C++ program: {result.stderr}\")\n",
    "        return np.inf\n",
    "\n",
    "    # print(f\"C++ program output:\\n{result.stdout}\")\n",
    "\n",
    "    return result.stdout.strip().split('\\n')"
   ]
  },
  {
   "cell_type": "code",
   "execution_count": 159,
   "metadata": {},
   "outputs": [],
   "source": [
    "content = pd.read_csv('initial_estimates_7.csv', header=None)\n",
    "initialEst = content.values\n",
    "\n",
    "cable_GT = initialEst[50:54,0].copy()\n",
    "anchor_GT = initialEst[54:,:].copy()"
   ]
  },
  {
   "cell_type": "markdown",
   "metadata": {},
   "source": [
    "# Perturbation Results\n",
    "    Anchor 1: 0.4\n",
    "    Anchor 2: 0.3\n",
    "    Anchor 3: 0.55\n",
    "    Anchor 4: 0.4\n",
    "    \n",
    "    All Together: 0.2"
   ]
  },
  {
   "cell_type": "code",
   "execution_count": 160,
   "metadata": {},
   "outputs": [],
   "source": [
    "result = []\n",
    "anchor_prt = 0.3\n",
    "cable_prt = 0.0\n",
    "file_path = 'perturb.csv'\n",
    "file_exists = os.path.isfile(file_path)\n",
    "for i in range(100):\n",
    "    initialEst[50,:] = cable_GT[0] + random.uniform(-cable_prt, cable_prt)  # m0\n",
    "    initialEst[51,:] = cable_GT[1] + random.uniform(-cable_prt, cable_prt)  # n0\n",
    "    initialEst[52,:] = cable_GT[2] + random.uniform(-cable_prt, cable_prt)  # k0\n",
    "    initialEst[53,:] = cable_GT[3] + random.uniform(-cable_prt, cable_prt)  # h0\n",
    "\n",
    "    initialEst[54,:] = prt_point(anchor_GT[0],anchor_prt)    # Anchor 1\n",
    "    initialEst[55,:] = prt_point(anchor_GT[1],anchor_prt)    # Anchor 2\n",
    "    initialEst[56,:] = prt_point(anchor_GT[2],anchor_prt)    # Anchor 3\n",
    "    initialEst[57,:] = prt_point(anchor_GT[3],anchor_prt)    # Anchor 4\n",
    "    \n",
    "    initialEst_pd = pd.DataFrame(initialEst)\n",
    "    initialEst_pd.to_csv('../dataset/estimates_7.csv', header=False, index=False)\n",
    "    values = np.concatenate((np.array((initialEst[49,0], initialEst[50,0], initialEst[51,0], initialEst[52,0], initialEst[53,0])),\n",
    "                             initialEst[54], initialEst[55], initialEst[56], initialEst[57], list(map(float, run_cpp_program()))))\n",
    "    result.append(values)\n",
    "\n",
    "result = np.array(result)\n",
    "result_pd = pd.DataFrame(result)\n",
    "result_pd.columns = ['s0', 'm00', 'n00', 'k00', 'h00', 'A10_x', 'A10_y', 'A20_x', 'A20_y', 'A30_x', 'A30_y', 'A40_x', 'A40_y',\n",
    "                     's', 'm0', 'n0', 'k0', 'h0', 'A1_x', 'A1_y', 'A2_x', 'A2_y', 'A3_x', 'A3_y', 'A4_x', 'A4_y', 'X0_x', 'X0_y']\n",
    "# result_pd.to_csv(file_path, mode='a', index=False, header=not file_exists)"
   ]
  },
  {
   "cell_type": "code",
   "execution_count": 161,
   "metadata": {},
   "outputs": [],
   "source": [
    "rmse_m0 = np.sqrt(np.mean((result_pd['m0'] - cable_GT[0]) ** 2))\n",
    "rmse_n0 = np.sqrt(np.mean((result_pd['n0'] - cable_GT[1]) ** 2))\n",
    "rmse_k0 = np.sqrt(np.mean((result_pd['k0'] - cable_GT[2]) ** 2))\n",
    "rmse_h0 = np.sqrt(np.mean((result_pd['h0'] - cable_GT[3]) ** 2))"
   ]
  },
  {
   "cell_type": "code",
   "execution_count": 162,
   "metadata": {},
   "outputs": [],
   "source": [
    "plt.subplots()\n",
    "%matplotlib qt\n",
    "\n",
    "plt.scatter(result_pd['A10_x'], result_pd['A10_y'], color=\"tab:cyan\", label=\"Anchor 1 Initial Values\")\n",
    "plt.scatter(result_pd['A20_x'], result_pd['A20_y'], color=\"tab:pink\", label=\"Anchor 2 Initial Values\")\n",
    "plt.scatter(result_pd['A30_x'], result_pd['A30_y'], color=\"gold\", label=\"Anchor 3 Initial Values\")\n",
    "plt.scatter(result_pd['A40_x'], result_pd['A40_y'], color=\"limegreen\", label=\"Anchor 4 Initial Values\")\n",
    "plt.scatter(result_pd['A1_x'] - result_pd['A3_x'], result_pd['A1_y'] - result_pd['A3_y'], label=\"Anchor 1 Optimization Result\", color=\"tab:blue\")\n",
    "plt.scatter(result_pd['A2_x'] - result_pd['A3_x'], result_pd['A2_y'] - result_pd['A3_y'], label=\"Anchor 2 Optimization Result\", color=\"tab:purple\")\n",
    "plt.scatter(result_pd['A3_x'] - result_pd['A3_x'], result_pd['A3_y'] - result_pd['A3_y'], label=\"Anchor 3 Optimization Result\", color=\"tab:orange\")\n",
    "plt.scatter(result_pd['A4_x'] - result_pd['A3_x'], result_pd['A4_y'] - result_pd['A3_y'], label=\"Anchor 4 Optimization Result\", color=\"green\")\n",
    "plt.scatter(result_pd['X0_x'], result_pd['X0_y'], label=\"X0\", color=\"green\")\n",
    "\n",
    "plt.legend()\n",
    "\n",
    "plt.subplots()\n",
    "\n",
    "plt.subplot(4,1,1)\n",
    "plt.hist(result_pd['m0'], bins=100, edgecolor='black')\n",
    "mean = np.mean(result_pd['m0'])\n",
    "std_dev = np.std(result_pd['m0'])\n",
    "plt.legend([f'Without Perturbation: {cable_GT[0]}\\nMean: {mean:.3f}\\nRMSE: {rmse_m0:.3f}'])\n",
    "plt.ylabel('$m_0$')\n",
    "\n",
    "plt.subplot(4,1,2)\n",
    "plt.hist(result_pd['n0'], bins=100, edgecolor='black')\n",
    "mean = np.mean(result_pd['n0'])\n",
    "std_dev = np.std(result_pd['n0'])\n",
    "plt.legend([f'Without Perturbation: {cable_GT[1]}\\nMean: {mean:.3f}\\nRMSE: {rmse_n0:.3f}'])\n",
    "plt.ylabel('$n_0$')\n",
    "\n",
    "plt.subplot(4,1,3)\n",
    "plt.hist(result_pd['k0'], bins=100, edgecolor='black')\n",
    "mean = np.mean(result_pd['k0'])\n",
    "std_dev = np.std(result_pd['k0'])\n",
    "plt.legend([f'Without Perturbation: {cable_GT[2]}\\nMean: {mean:.3f}\\nRMSE: {rmse_k0:.3f}'])\n",
    "plt.ylabel('$k_0$')\n",
    "\n",
    "plt.subplot(4,1,4)\n",
    "plt.hist(result_pd['h0'], bins=100, edgecolor='black')\n",
    "mean = np.mean(result_pd['h0'])\n",
    "std_dev = np.std(result_pd['h0'])\n",
    "plt.legend([f'Without Perturbation: {cable_GT[3]}\\nMean: {mean:.3f}\\nRMSE: {rmse_h0:.3f}'])\n",
    "plt.ylabel('$h_0$')\n",
    "plt.xlabel('Length (m)')\n",
    "plt.suptitle(f'$Perturbation={cable_prt}$')\n",
    "\n",
    "mplcursors.cursor(multiple=True)\n",
    "plt.show()"
   ]
  }
 ],
 "metadata": {
  "kernelspec": {
   "display_name": "Python 3",
   "language": "python",
   "name": "python3"
  },
  "language_info": {
   "codemirror_mode": {
    "name": "ipython",
    "version": 3
   },
   "file_extension": ".py",
   "mimetype": "text/x-python",
   "name": "python",
   "nbconvert_exporter": "python",
   "pygments_lexer": "ipython3",
   "version": "3.8.10"
  }
 },
 "nbformat": 4,
 "nbformat_minor": 2
}
