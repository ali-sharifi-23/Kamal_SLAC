{
 "cells": [
  {
   "cell_type": "code",
   "execution_count": 24,
   "metadata": {},
   "outputs": [],
   "source": [
    "import os\n",
    "import subprocess\n",
    "import numpy as np\n",
    "import pandas as pd\n",
    "import random\n",
    "import mplcursors\n",
    "import matplotlib.pyplot as plt\n",
    "from mpl_toolkits import mplot3d\n",
    "from matplotlib import font_manager"
   ]
  },
  {
   "cell_type": "code",
   "execution_count": 25,
   "metadata": {},
   "outputs": [],
   "source": [
    "def run_cpp_program(noise, nPose):\n",
    "    result = subprocess.run(['../build/MyGTSAM', f'{noise}', f'{nPose}'], \n",
    "                            capture_output=True, text=True)\n",
    "\n",
    "    if result.returncode != 0:\n",
    "        print(f\"Error running C++ program: {result.stderr}\")\n",
    "        return np.inf\n",
    "\n",
    "    return result.stdout.strip().split('\\n')"
   ]
  },
  {
   "cell_type": "code",
   "execution_count": 26,
   "metadata": {},
   "outputs": [],
   "source": [
    "content = pd.read_csv('pose_GT_8.csv', header=None)\n",
    "pose_GT = content.values\n",
    "pose_GT = np.delete(pose_GT, 2, axis=1)\n",
    "\n",
    "content = pd.read_csv(\"/home/ali/Github/Kamal_Dataset/seq8/encoder/encoder.csv\", header=None)\n",
    "Data = content.values\n",
    "delta = Data[:,0]\n",
    "tsta = Data[:,1]\n",
    "brk = Data[:,2]\n",
    "\n",
    "content = pd.read_csv('initial_estimates_8.csv', header=None)\n",
    "initialEst = content.values\n",
    "\n",
    "nPose = len(initialEst)-8\n",
    "\n",
    "cable_GT = initialEst[nPose:nPose+4,0].copy()\n",
    "anchor_GT = initialEst[nPose+4:,:].copy()"
   ]
  },
  {
   "cell_type": "markdown",
   "metadata": {},
   "source": [
    "# Perturbation"
   ]
  },
  {
   "cell_type": "code",
   "execution_count": 27,
   "metadata": {},
   "outputs": [],
   "source": [
    "result = []\n",
    "pose = []\n",
    "anchor_STD = 0.3\n",
    "cable_prior_sigma = 0.1\n",
    "file_path = 'perturb.csv'\n",
    "file_exists = os.path.isfile(file_path)\n",
    "for i in range(250):\n",
    "    initialEst[nPose+4,:] = np.random.normal(anchor_GT[0], anchor_STD/(2*np.sqrt(2)), size=2)    # Anchor 1\n",
    "    initialEst[nPose+5,:] = np.random.normal(anchor_GT[1], anchor_STD/(2*np.sqrt(2)), size=2)    # Anchor 2\n",
    "    initialEst[nPose+6,:] = np.random.normal(anchor_GT[2], anchor_STD/(2*np.sqrt(2)), size=2)    # Anchor 3\n",
    "    initialEst[nPose+7,:] = np.random.normal(anchor_GT[3], anchor_STD/(2*np.sqrt(2)), size=2)    # Anchor 4\n",
    "    \n",
    "    initialEst_pd = pd.DataFrame(initialEst)\n",
    "    initialEst_pd.to_csv('../dataset/estimates_8.csv', header=False, index=False)\n",
    "    Opt = list(map(float, run_cpp_program(cable_prior_sigma, 31)))\n",
    "    values = np.concatenate((np.array((initialEst[nPose-1,0], initialEst[nPose,0], initialEst[nPose+1,0], initialEst[nPose+2,0], initialEst[nPose+3,0])),\n",
    "                             initialEst[nPose+4], initialEst[nPose+5], initialEst[nPose+6], initialEst[nPose+7], Opt[:15]))\n",
    "    result.append(values)\n",
    "    pose.append(Opt[13:])\n",
    "\n",
    "result = np.array(result)\n",
    "pose = np.array(pose)\n",
    "result_pd = pd.DataFrame(result)\n",
    "result_pd.columns = ['s0', 'm00', 'n00', 'k00', 'h00', 'A10_x', 'A10_y', 'A20_x', 'A20_y', 'A30_x', 'A30_y', 'A40_x', 'A40_y',\n",
    "                     's', 'm0', 'n0', 'k0', 'h0', 'A1_x', 'A1_y', 'A2_x', 'A2_y', 'A3_x', 'A3_y', 'A4_x', 'A4_y', 'X0_x', 'X0_y']"
   ]
  },
  {
   "cell_type": "code",
   "execution_count": 29,
   "metadata": {},
   "outputs": [
    {
     "data": {
      "text/plain": [
       "<mplcursors._mplcursors.Cursor at 0x7f7eebe6bf20>"
      ]
     },
     "execution_count": 29,
     "metadata": {},
     "output_type": "execute_result"
    }
   ],
   "source": [
    "plt.figure()\n",
    "%matplotlib qt\n",
    "\n",
    "plt.scatter(result_pd['A10_x'], result_pd['A10_y'], color=\"tab:cyan\", label=\"Anchor 1 Initial Values\")\n",
    "plt.scatter(result_pd['A20_x'], result_pd['A20_y'], color=\"tab:pink\", label=\"Anchor 2 Initial Values\")\n",
    "plt.scatter(result_pd['A30_x'], result_pd['A30_y'], color=\"gold\", label=\"Anchor 3 Initial Values\")\n",
    "plt.scatter(result_pd['A40_x'], result_pd['A40_y'], color=\"limegreen\", label=\"Anchor 4 Initial Values\")\n",
    "\n",
    "mean = np.mean(np.column_stack((result_pd['A1_x'], result_pd['A1_y'])), axis=0)\n",
    "plt.scatter(result_pd['A1_x'], result_pd['A1_y'], label=f'Anchor 1 Optimization Result', color=\"tab:blue\")\n",
    "\n",
    "mean = np.mean(np.column_stack((result_pd['A2_x'], result_pd['A2_y'])), axis=0)\n",
    "plt.scatter(result_pd['A2_x'], result_pd['A2_y'], label=f'Anchor 2 Optimization Result', color=\"purple\")\n",
    "\n",
    "mean = np.mean(np.column_stack((result_pd['A3_x'], result_pd['A3_y'])), axis=0)\n",
    "plt.scatter(result_pd['A3_x'], result_pd['A3_y'], label=f'Anchor 3 Optimization Result', color=\"tab:orange\")\n",
    "\n",
    "mean = np.mean(np.column_stack((result_pd['A4_x'], result_pd['A4_y'])), axis=0)\n",
    "plt.scatter(result_pd['A4_x'], result_pd['A4_y'], label=f'Anchor 4 Optimization Result', color=\"green\")\n",
    "\n",
    "\n",
    "plt.axis('equal')\n",
    "csfont = {'fontname':'Times New Roman', 'fontsize': 22}\n",
    "font = font_manager.FontProperties(family='Times New Roman',\n",
    "                                   style='normal', size=18)\n",
    "plt.xlabel(\"x (m)\", **csfont)\n",
    "plt.ylabel(\"y (m)\", **csfont)\n",
    "\n",
    "plt.tick_params(axis='both', which='major', labelsize=18, labelfontfamily='Times New Roman')\n",
    "mplcursors.cursor(multiple=True)"
   ]
  }
 ],
 "metadata": {
  "kernelspec": {
   "display_name": "Python 3",
   "language": "python",
   "name": "python3"
  },
  "language_info": {
   "codemirror_mode": {
    "name": "ipython",
    "version": 3
   },
   "file_extension": ".py",
   "mimetype": "text/x-python",
   "name": "python",
   "nbconvert_exporter": "python",
   "pygments_lexer": "ipython3",
   "version": "3.12.2"
  }
 },
 "nbformat": 4,
 "nbformat_minor": 2
}
