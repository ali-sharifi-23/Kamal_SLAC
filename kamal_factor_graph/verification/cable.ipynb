{
 "cells": [
  {
   "cell_type": "code",
   "execution_count": 106,
   "metadata": {},
   "outputs": [],
   "source": [
    "import os\n",
    "import subprocess\n",
    "import numpy as np\n",
    "import pandas as pd\n",
    "import random\n",
    "import mplcursors\n",
    "import matplotlib.pyplot as plt\n",
    "from mpl_toolkits import mplot3d"
   ]
  },
  {
   "cell_type": "code",
   "execution_count": 107,
   "metadata": {},
   "outputs": [],
   "source": [
    "def run_cpp_program():\n",
    "    result = subprocess.run(['../build/MyGTSAM'], \n",
    "                            capture_output=True, text=True)\n",
    "\n",
    "    if result.returncode != 0:\n",
    "        print(f\"Error running C++ program: {result.stderr}\")\n",
    "        return np.inf\n",
    "\n",
    "    return result.stdout.strip().split('\\n')"
   ]
  },
  {
   "cell_type": "code",
   "execution_count": 108,
   "metadata": {},
   "outputs": [],
   "source": [
    "result = np.array(list(map(float, run_cpp_program())))\n",
    "result_pd = pd.DataFrame(result.reshape(1,-1))\n",
    "result_pd.columns = ['s', 'm0', 'n0', 'k0', 'h0', 'A1_x', 'A1_y', 'A2_x', 'A2_y', 'A3_x', 'A3_y', 'A4_x', 'A4_y', 'X0_x', 'X0_y']\n",
    "X0 = [0.605, 1.9 - 0.805]"
   ]
  },
  {
   "cell_type": "code",
   "execution_count": 109,
   "metadata": {},
   "outputs": [
    {
     "name": "stdout",
     "output_type": "stream",
     "text": [
      "[0.605      0.19942226 0.54603061 0.75214751 0.15562134 0.58941768\n",
      " 0.62887208 0.43567073 0.50902405 0.44645508 0.50122058 0.304877\n",
      " 0.64896227 0.58582667 0.26750988 0.60939234 0.2462634  0.58577556\n",
      " 0.5847968  0.30483246 0.63897784 0.25812496 0.82485584 0.32771535\n",
      " 0.44432845 0.63427678 0.50075968 0.18176507 0.6489559  0.36980924\n",
      " 0.56023549]\n"
     ]
    }
   ],
   "source": [
    "path = \"/home/ali/Github/Kamal_Dataset/seq8\"\n",
    "\n",
    "content = pd.read_csv(os.path.join(path, \"stereo/static_poses.csv\"), header=None)\n",
    "Data = content.values\n",
    "x_GT = Data[:,0]\n",
    "x_GT += X0[0] - x_GT[0]\n",
    "y_GT = Data[:,1]\n",
    "y_GT += X0[1] - y_GT[0]\n",
    "z_GT = Data[:,2]\n",
    "\n",
    "print(x_GT)\n",
    "\n",
    "content = pd.read_csv(os.path.join(path, \"encoder/encoder.csv\"), header=None)\n",
    "Data = content.values\n",
    "delta = Data[:,0]\n",
    "tsta = Data[:,1]\n",
    "brk = Data[:,2]"
   ]
  },
  {
   "cell_type": "code",
   "execution_count": 110,
   "metadata": {},
   "outputs": [
    {
     "name": "stdout",
     "output_type": "stream",
     "text": [
      "[[ 0.          0.          0.          0.          0.          0.        ]\n",
      " [ 0.51458045 -0.69605141  0.58155971 -0.35669062  0.46219945  0.0743958 ]\n",
      " [ 0.79992926 -0.45827453 -0.2480298  -0.34865909  0.04939111  0.50768635]\n",
      " [ 0.00315366  0.2562804  -0.19900699 -0.03864376 -0.10290053  0.17133874]\n",
      " [ 0.53884252 -0.72187104  0.6791804  -0.39340403  0.6057223   0.04312786]\n",
      " [ 0.46527039 -0.25992257 -0.20904637 -0.39809214  0.10435216  0.52595943]\n",
      " [ 0.36514935 -0.15017897 -0.22900564 -0.3688543   0.21368417  0.3103543 ]\n",
      " [ 0.63981703 -0.5611137   0.0173792  -0.39990153  0.48399948  0.12299205]\n",
      " [ 0.80604262 -0.52096175 -0.17753162 -0.23745249  0.27043619  0.04987919]\n",
      " [ 0.66227267 -0.55671407 -0.01150899  0.10740067  0.10042237 -0.20674076]\n",
      " [ 0.56318453 -0.43811633 -0.08752933  0.32720637 -0.07122368 -0.27478003]\n",
      " [ 0.45628926 -0.60489836  0.35828358  0.47420657 -0.0960519  -0.37414634]\n",
      " [ 0.13279873 -0.00258902 -0.14152816  0.46232146 -0.37332314 -0.07749574]\n",
      " [ 0.70958472 -0.36002274 -0.29444034  0.17915031  0.02736939 -0.22210648]\n",
      " [ 0.13631434 -0.44569522  0.58121306  0.48799138  0.09191117 -0.50848313]\n",
      " [-0.00559342  0.01025095 -0.00342801  0.11364619 -0.10540641 -0.02793572]\n",
      " [ 0.81643837 -0.83385671  0.39137569 -0.26701425  0.35381891  0.02674042]\n",
      " [ 0.24538958 -0.16384852 -0.10264873  0.02393672 -0.18481094  0.20320957]\n",
      " [ 0.29860457 -0.19158211 -0.12683531 -0.13839743  0.05250599  0.11994385]\n",
      " [ 0.55294576 -0.65604267  0.32544593 -0.23367567  0.2893067   0.03133569]\n",
      " [ 0.96122106 -0.33225395 -0.4637612  -0.1602335  -0.02406818  0.25206387]\n",
      " [ 0.15647314 -0.46269716  0.59260264  0.33508438 -0.07536259 -0.27964087]\n",
      " [ 0.59831876  0.14156463 -0.59778476  0.02113141 -0.21299588  0.25656873]\n",
      " [ 0.58095973 -0.6512048   0.26572667  0.17523643  0.23317609 -0.34719731]\n",
      " [-0.04677914 -0.18742056  0.30817256  0.27041413 -0.09409959 -0.20507285]\n",
      " [ 0.14807858 -0.03541908 -0.12825717 -0.1876735   0.12214791  0.11488796]\n",
      " [ 1.07206951 -0.6139769  -0.21325743 -0.39429224  0.55362268  0.07154835]\n",
      " [ 0.63144335 -0.76765757  0.58798841  0.16262494  0.21482998 -0.32724516]\n",
      " [ 0.17883702 -0.0265957  -0.166405    0.25741887 -0.31286079  0.07321638]\n",
      " [ 0.09081878 -0.34593584  0.38037808  0.0235515   0.05838461 -0.08693506]\n",
      " [ 0.67233001 -0.39011492 -0.23564897 -0.29670786  0.1153943   0.2983015 ]]\n"
     ]
    }
   ],
   "source": [
    "r_Delta = 0.025\n",
    "r_TSTA = 0.035\n",
    "r_Break = 0.035\n",
    "\n",
    "# A1 = [result_pd['A1_x'].values, result_pd['A1_y'].values]\n",
    "# A2 = [result_pd['A2_x'].values, result_pd['A2_y'].values]\n",
    "# A3 = [result_pd['A3_x'].values, result_pd['A3_y'].values]\n",
    "# A4 = [result_pd['A4_x'].values, result_pd['A4_y'].values]\n",
    "\n",
    "a = 1.20\n",
    "b = 1.90\n",
    "\n",
    "A1 = [0, b]\n",
    "A2 = [a, b]\n",
    "A3 = [0, 0]\n",
    "A4 = [a, 0]\n",
    "\n",
    "l_0 = np.column_stack((result_pd['m0'] + result_pd['n0'], result_pd['m0'] + 2*result_pd['k0'], result_pd['n0'] + 2*result_pd['h0']))\n",
    "m = np.sqrt((x_GT - A1[0])**2 + (y_GT - A1[1])**2)\n",
    "n = np.sqrt((x_GT - A2[0])**2 + (y_GT - A2[1])**2)\n",
    "k = np.sqrt((x_GT - A3[0])**2 + (y_GT - A3[1])**2)\n",
    "h = np.sqrt((x_GT - A4[0])**2 + (y_GT - A4[1])**2)\n",
    "l = np.column_stack((m + n, m + 2*k, n + 2*h))\n",
    "delta_l = l - l[0]\n",
    "l_enc = np.column_stack((r_Delta*delta, r_TSTA*tsta, r_Break*brk))\n",
    "\n",
    "print(np.column_stack((delta_l, l_enc)))"
   ]
  }
 ],
 "metadata": {
  "kernelspec": {
   "display_name": "base",
   "language": "python",
   "name": "python3"
  },
  "language_info": {
   "codemirror_mode": {
    "name": "ipython",
    "version": 3
   },
   "file_extension": ".py",
   "mimetype": "text/x-python",
   "name": "python",
   "nbconvert_exporter": "python",
   "pygments_lexer": "ipython3",
   "version": "3.12.2"
  }
 },
 "nbformat": 4,
 "nbformat_minor": 2
}
